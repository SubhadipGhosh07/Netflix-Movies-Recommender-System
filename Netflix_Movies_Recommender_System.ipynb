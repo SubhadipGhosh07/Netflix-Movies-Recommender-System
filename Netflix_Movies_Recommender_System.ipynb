{
  "nbformat": 4,
  "nbformat_minor": 5,
  "metadata": {
    "kernelspec": {
      "display_name": "Python 3",
      "language": "python",
      "name": "python3"
    },
    "language_info": {
      "codemirror_mode": {
        "name": "ipython",
        "version": 3
      },
      "file_extension": ".py",
      "mimetype": "text/x-python",
      "name": "python",
      "nbconvert_exporter": "python",
      "pygments_lexer": "ipython3",
      "version": "3.8.8"
    },
    "colab": {
      "name": "Netflix Movies Recommender System.ipynb",
      "provenance": [],
      "include_colab_link": true
    }
  },
  "cells": [
    {
      "cell_type": "markdown",
      "metadata": {
        "id": "view-in-github",
        "colab_type": "text"
      },
      "source": [
        "<a href=\"https://colab.research.google.com/github/SubhadipGhosh07/Netflix-Movies-Recommender-System/blob/main/Netflix_Movies_Recommender_System.ipynb\" target=\"_parent\"><img src=\"https://colab.research.google.com/assets/colab-badge.svg\" alt=\"Open In Colab\"/></a>"
      ]
    },
    {
      "cell_type": "markdown",
      "metadata": {
        "id": "ePElVsf8wuWJ"
      },
      "source": [
        "# <b> Building a Content-Based Recommendation System of Netflix Titles </b>\n",
        "\n",
        "**Dataset Source:** Kaggle\n",
        "\n",
        "\n",
        "We will not be describing every feature, we will be discussing only the important ones.\n",
        "The features we have are as follows:\n",
        "* <b>Title:</b> Name/Title of the Movies\n",
        "* <b>Genres:</b> Genre of the Movies\n",
        "* <b>Tags:</b> A brief description of the Genres\n",
        "* <b>Languages:</b> Language of the Movies\n",
        "* <b>Ratings:</b>This dataset combines data sources from Netflix, Rotten Tomatoes, IMBD, posters, box office information, trailers on YouTube\n",
        "* <b>Summary:</b> A basic summary of the movies\n",
        "* <b>Directors, Writers and Actors:</b> Names of cast and crew members  of the movie\n"
      ],
      "id": "ePElVsf8wuWJ"
    },
    {
      "cell_type": "code",
      "metadata": {
        "id": "c0b141f2"
      },
      "source": [
        "# Importing necessary libraries\n",
        "import numpy as np\n",
        "import pandas as pd\n",
        "import matplotlib.pyplot as plt\n",
        "import seaborn as sns\n",
        "\n",
        "import warnings\n",
        "warnings.filterwarnings(\"ignore\")\n",
        "\n",
        "from sklearn.metrics.pairwise import cosine_similarity\n",
        "from sklearn.metrics.pairwise import cosine_distances\n",
        "import scipy.spatial.distance"
      ],
      "id": "c0b141f2",
      "execution_count": 164,
      "outputs": []
    },
    {
      "cell_type": "code",
      "metadata": {
        "colab": {
          "base_uri": "https://localhost:8080/"
        },
        "id": "rB-nN34oeP24",
        "outputId": "c7767a72-c18f-4372-baa2-cc0d449a460d"
      },
      "source": [
        "from google.colab import drive\n",
        "drive.mount('/content/drive')"
      ],
      "id": "rB-nN34oeP24",
      "execution_count": 77,
      "outputs": [
        {
          "output_type": "stream",
          "text": [
            "Drive already mounted at /content/drive; to attempt to forcibly remount, call drive.mount(\"/content/drive\", force_remount=True).\n"
          ],
          "name": "stdout"
        }
      ]
    },
    {
      "cell_type": "code",
      "metadata": {
        "colab": {
          "base_uri": "https://localhost:8080/",
          "height": 889
        },
        "id": "88a0f0a3",
        "outputId": "5902560e-ea27-45b5-a356-a65fa5779666"
      },
      "source": [
        "# /Importing our dataset\n",
        "pd.set_option('display.max_columns', None)\n",
        "df=pd.read_csv(\"/content/drive/MyDrive/Movie Recommender System/netflix-rotten-tomatoes-metacritic-imdb.csv\")\n",
        "df.head(3)"
      ],
      "id": "88a0f0a3",
      "execution_count": 165,
      "outputs": [
        {
          "output_type": "execute_result",
          "data": {
            "text/html": [
              "<div>\n",
              "<style scoped>\n",
              "    .dataframe tbody tr th:only-of-type {\n",
              "        vertical-align: middle;\n",
              "    }\n",
              "\n",
              "    .dataframe tbody tr th {\n",
              "        vertical-align: top;\n",
              "    }\n",
              "\n",
              "    .dataframe thead th {\n",
              "        text-align: right;\n",
              "    }\n",
              "</style>\n",
              "<table border=\"1\" class=\"dataframe\">\n",
              "  <thead>\n",
              "    <tr style=\"text-align: right;\">\n",
              "      <th></th>\n",
              "      <th>Title</th>\n",
              "      <th>Genre</th>\n",
              "      <th>Tags</th>\n",
              "      <th>Languages</th>\n",
              "      <th>Series or Movie</th>\n",
              "      <th>Hidden Gem Score</th>\n",
              "      <th>Country Availability</th>\n",
              "      <th>Runtime</th>\n",
              "      <th>Director</th>\n",
              "      <th>Writer</th>\n",
              "      <th>Actors</th>\n",
              "      <th>View Rating</th>\n",
              "      <th>IMDb Score</th>\n",
              "      <th>Rotten Tomatoes Score</th>\n",
              "      <th>Metacritic Score</th>\n",
              "      <th>Awards Received</th>\n",
              "      <th>Awards Nominated For</th>\n",
              "      <th>Boxoffice</th>\n",
              "      <th>Release Date</th>\n",
              "      <th>Netflix Release Date</th>\n",
              "      <th>Production House</th>\n",
              "      <th>Netflix Link</th>\n",
              "      <th>IMDb Link</th>\n",
              "      <th>Summary</th>\n",
              "      <th>IMDb Votes</th>\n",
              "      <th>Image</th>\n",
              "      <th>Poster</th>\n",
              "      <th>TMDb Trailer</th>\n",
              "      <th>Trailer Site</th>\n",
              "    </tr>\n",
              "  </thead>\n",
              "  <tbody>\n",
              "    <tr>\n",
              "      <th>0</th>\n",
              "      <td>Lets Fight Ghost</td>\n",
              "      <td>Crime, Drama, Fantasy, Horror, Romance</td>\n",
              "      <td>Comedy Programmes,Romantic TV Comedies,Horror Programmes,Thai TV Programmes</td>\n",
              "      <td>Swedish, Spanish</td>\n",
              "      <td>Series</td>\n",
              "      <td>4.3</td>\n",
              "      <td>Thailand</td>\n",
              "      <td>&lt; 30 minutes</td>\n",
              "      <td>Tomas Alfredson</td>\n",
              "      <td>John Ajvide Lindqvist</td>\n",
              "      <td>Kåre Hedebrant, Per Ragnar, Lina Leandersson, Henrik Dahl</td>\n",
              "      <td>R</td>\n",
              "      <td>7.9</td>\n",
              "      <td>98.0</td>\n",
              "      <td>82.0</td>\n",
              "      <td>74.0</td>\n",
              "      <td>57.0</td>\n",
              "      <td>$2,122,065</td>\n",
              "      <td>12 Dec 2008</td>\n",
              "      <td>2021-03-04</td>\n",
              "      <td>Canal+, Sandrew Metronome</td>\n",
              "      <td>https://www.netflix.com/watch/81415947</td>\n",
              "      <td>https://www.imdb.com/title/tt1139797</td>\n",
              "      <td>A med student with a supernatural gift tries to cash in on his abilities by facing off against ghosts, till a wandering spirit brings romance inst...</td>\n",
              "      <td>205926.0</td>\n",
              "      <td>https://occ-0-4708-64.1.nflxso.net/dnm/api/v6/evlCitJPPCVCry0BZlEFb5-QjKc/AAAABcmgLCxN8dNahdY2kgd1hhcL2a6XrE92x24Bx5h6JFUvH5zMrv6lFWl_aWMt33b6DHvk...</td>\n",
              "      <td>https://m.media-amazon.com/images/M/MV5BOWM4NTY2NTMtZDZlZS00NTgyLWEzZDMtODE3ZGI1MzI3ZmU5XkEyXkFqcGdeQXVyNzI1NzMxNzM@._V1_SX300.jpg</td>\n",
              "      <td>NaN</td>\n",
              "      <td>NaN</td>\n",
              "    </tr>\n",
              "    <tr>\n",
              "      <th>1</th>\n",
              "      <td>HOW TO BUILD A GIRL</td>\n",
              "      <td>Comedy</td>\n",
              "      <td>Dramas,Comedies,Films Based on Books,British</td>\n",
              "      <td>English</td>\n",
              "      <td>Movie</td>\n",
              "      <td>7.0</td>\n",
              "      <td>Canada</td>\n",
              "      <td>1-2 hour</td>\n",
              "      <td>Coky Giedroyc</td>\n",
              "      <td>Caitlin Moran</td>\n",
              "      <td>Paddy Considine, Cleo, Beanie Feldstein, Dónal Finn</td>\n",
              "      <td>R</td>\n",
              "      <td>5.8</td>\n",
              "      <td>79.0</td>\n",
              "      <td>69.0</td>\n",
              "      <td>1.0</td>\n",
              "      <td>NaN</td>\n",
              "      <td>$70,632</td>\n",
              "      <td>08 May 2020</td>\n",
              "      <td>2021-03-04</td>\n",
              "      <td>Film 4, Monumental Pictures, Lionsgate</td>\n",
              "      <td>https://www.netflix.com/watch/81041267</td>\n",
              "      <td>https://www.imdb.com/title/tt4193072</td>\n",
              "      <td>When nerdy Johanna moves to London, things get out of hand when she reinvents herself as a bad-mouthed music critic to save her poverty-stricken f...</td>\n",
              "      <td>2838.0</td>\n",
              "      <td>https://occ-0-1081-999.1.nflxso.net/dnm/api/v6/evlCitJPPCVCry0BZlEFb5-QjKc/AAAABe_fxMSBM1E-sSoszr12SmkI-498sqBWrEyhkchdn4UklQVjdoPS_Hj-NhvgbePvwlD...</td>\n",
              "      <td>https://m.media-amazon.com/images/M/MV5BZGUyN2ZlMjYtZTk2Yy00MWZiLWIyMDktMzFlMmEzOWVlMGNiXkEyXkFqcGdeQXVyMTE1MzI2NzIz._V1_SX300.jpg</td>\n",
              "      <td>https://www.youtube.com/watch?v=eIbcxPy4okQ</td>\n",
              "      <td>YouTube</td>\n",
              "    </tr>\n",
              "    <tr>\n",
              "      <th>2</th>\n",
              "      <td>Centigrade</td>\n",
              "      <td>Drama, Thriller</td>\n",
              "      <td>Thrillers</td>\n",
              "      <td>English</td>\n",
              "      <td>Movie</td>\n",
              "      <td>6.4</td>\n",
              "      <td>Canada</td>\n",
              "      <td>1-2 hour</td>\n",
              "      <td>Brendan Walsh</td>\n",
              "      <td>Brendan Walsh, Daley Nixon</td>\n",
              "      <td>Genesis Rodriguez, Vincent Piazza</td>\n",
              "      <td>Unrated</td>\n",
              "      <td>4.3</td>\n",
              "      <td>NaN</td>\n",
              "      <td>46.0</td>\n",
              "      <td>NaN</td>\n",
              "      <td>NaN</td>\n",
              "      <td>$16,263</td>\n",
              "      <td>28 Aug 2020</td>\n",
              "      <td>2021-03-04</td>\n",
              "      <td>NaN</td>\n",
              "      <td>https://www.netflix.com/watch/81305978</td>\n",
              "      <td>https://www.imdb.com/title/tt8945942</td>\n",
              "      <td>Trapped in a frozen car during a blizzard, a pregnant woman and her husband fight to survive while the temperatures plummet. Inspired by a true st...</td>\n",
              "      <td>1720.0</td>\n",
              "      <td>https://occ-0-1081-999.1.nflxso.net/dnm/api/v6/evlCitJPPCVCry0BZlEFb5-QjKc/AAAABW-fG-2_s3pGsBdbw4nLCWENcRKL2Ngj7Kv5_QQVgZ--GT8eg-BlyJZM9ZaAg5kAYHe...</td>\n",
              "      <td>https://m.media-amazon.com/images/M/MV5BODM2MDQ5MjktYTM1ZS00Y2M4LTg0MDAtZjFjZDM1MDQxZGRmXkEyXkFqcGdeQXVyNDA1NDA2NTk@._V1_SX300.jpg</td>\n",
              "      <td>https://www.youtube.com/watch?v=0RvV7TNUlkQ</td>\n",
              "      <td>YouTube</td>\n",
              "    </tr>\n",
              "  </tbody>\n",
              "</table>\n",
              "</div>"
            ],
            "text/plain": [
              "                 Title                                   Genre  \\\n",
              "0     Lets Fight Ghost  Crime, Drama, Fantasy, Horror, Romance   \n",
              "1  HOW TO BUILD A GIRL                                  Comedy   \n",
              "2           Centigrade                         Drama, Thriller   \n",
              "\n",
              "                                                                          Tags  \\\n",
              "0  Comedy Programmes,Romantic TV Comedies,Horror Programmes,Thai TV Programmes   \n",
              "1                                 Dramas,Comedies,Films Based on Books,British   \n",
              "2                                                                    Thrillers   \n",
              "\n",
              "          Languages Series or Movie  Hidden Gem Score Country Availability  \\\n",
              "0  Swedish, Spanish          Series               4.3             Thailand   \n",
              "1           English           Movie               7.0               Canada   \n",
              "2           English           Movie               6.4               Canada   \n",
              "\n",
              "        Runtime         Director                      Writer  \\\n",
              "0  < 30 minutes  Tomas Alfredson       John Ajvide Lindqvist   \n",
              "1      1-2 hour    Coky Giedroyc               Caitlin Moran   \n",
              "2      1-2 hour    Brendan Walsh  Brendan Walsh, Daley Nixon   \n",
              "\n",
              "                                                      Actors View Rating  \\\n",
              "0  Kåre Hedebrant, Per Ragnar, Lina Leandersson, Henrik Dahl           R   \n",
              "1        Paddy Considine, Cleo, Beanie Feldstein, Dónal Finn           R   \n",
              "2                          Genesis Rodriguez, Vincent Piazza     Unrated   \n",
              "\n",
              "   IMDb Score  Rotten Tomatoes Score  Metacritic Score  Awards Received  \\\n",
              "0         7.9                   98.0              82.0             74.0   \n",
              "1         5.8                   79.0              69.0              1.0   \n",
              "2         4.3                    NaN              46.0              NaN   \n",
              "\n",
              "   Awards Nominated For   Boxoffice Release Date Netflix Release Date  \\\n",
              "0                  57.0  $2,122,065  12 Dec 2008           2021-03-04   \n",
              "1                   NaN     $70,632  08 May 2020           2021-03-04   \n",
              "2                   NaN     $16,263  28 Aug 2020           2021-03-04   \n",
              "\n",
              "                         Production House  \\\n",
              "0               Canal+, Sandrew Metronome   \n",
              "1  Film 4, Monumental Pictures, Lionsgate   \n",
              "2                                     NaN   \n",
              "\n",
              "                             Netflix Link  \\\n",
              "0  https://www.netflix.com/watch/81415947   \n",
              "1  https://www.netflix.com/watch/81041267   \n",
              "2  https://www.netflix.com/watch/81305978   \n",
              "\n",
              "                              IMDb Link  \\\n",
              "0  https://www.imdb.com/title/tt1139797   \n",
              "1  https://www.imdb.com/title/tt4193072   \n",
              "2  https://www.imdb.com/title/tt8945942   \n",
              "\n",
              "                                                                                                                                                 Summary  \\\n",
              "0  A med student with a supernatural gift tries to cash in on his abilities by facing off against ghosts, till a wandering spirit brings romance inst...   \n",
              "1  When nerdy Johanna moves to London, things get out of hand when she reinvents herself as a bad-mouthed music critic to save her poverty-stricken f...   \n",
              "2  Trapped in a frozen car during a blizzard, a pregnant woman and her husband fight to survive while the temperatures plummet. Inspired by a true st...   \n",
              "\n",
              "   IMDb Votes  \\\n",
              "0    205926.0   \n",
              "1      2838.0   \n",
              "2      1720.0   \n",
              "\n",
              "                                                                                                                                                   Image  \\\n",
              "0  https://occ-0-4708-64.1.nflxso.net/dnm/api/v6/evlCitJPPCVCry0BZlEFb5-QjKc/AAAABcmgLCxN8dNahdY2kgd1hhcL2a6XrE92x24Bx5h6JFUvH5zMrv6lFWl_aWMt33b6DHvk...   \n",
              "1  https://occ-0-1081-999.1.nflxso.net/dnm/api/v6/evlCitJPPCVCry0BZlEFb5-QjKc/AAAABe_fxMSBM1E-sSoszr12SmkI-498sqBWrEyhkchdn4UklQVjdoPS_Hj-NhvgbePvwlD...   \n",
              "2  https://occ-0-1081-999.1.nflxso.net/dnm/api/v6/evlCitJPPCVCry0BZlEFb5-QjKc/AAAABW-fG-2_s3pGsBdbw4nLCWENcRKL2Ngj7Kv5_QQVgZ--GT8eg-BlyJZM9ZaAg5kAYHe...   \n",
              "\n",
              "                                                                                                                               Poster  \\\n",
              "0  https://m.media-amazon.com/images/M/MV5BOWM4NTY2NTMtZDZlZS00NTgyLWEzZDMtODE3ZGI1MzI3ZmU5XkEyXkFqcGdeQXVyNzI1NzMxNzM@._V1_SX300.jpg   \n",
              "1  https://m.media-amazon.com/images/M/MV5BZGUyN2ZlMjYtZTk2Yy00MWZiLWIyMDktMzFlMmEzOWVlMGNiXkEyXkFqcGdeQXVyMTE1MzI2NzIz._V1_SX300.jpg   \n",
              "2  https://m.media-amazon.com/images/M/MV5BODM2MDQ5MjktYTM1ZS00Y2M4LTg0MDAtZjFjZDM1MDQxZGRmXkEyXkFqcGdeQXVyNDA1NDA2NTk@._V1_SX300.jpg   \n",
              "\n",
              "                                  TMDb Trailer Trailer Site  \n",
              "0                                          NaN          NaN  \n",
              "1  https://www.youtube.com/watch?v=eIbcxPy4okQ      YouTube  \n",
              "2  https://www.youtube.com/watch?v=0RvV7TNUlkQ      YouTube  "
            ]
          },
          "metadata": {
            "tags": []
          },
          "execution_count": 165
        }
      ]
    },
    {
      "cell_type": "code",
      "metadata": {
        "colab": {
          "base_uri": "https://localhost:8080/"
        },
        "id": "IQmtkuaKyLt0",
        "outputId": "4c90fb7b-08f3-4fde-a8e3-9253e66ad896"
      },
      "source": [
        "# Number of records and features we have\n",
        "print(\"Number of records: {}\".format(df.shape[0]))\n",
        "print(\"Number of features: {}\".format(df.shape[1]))"
      ],
      "id": "IQmtkuaKyLt0",
      "execution_count": 166,
      "outputs": [
        {
          "output_type": "stream",
          "text": [
            "Number of records: 15480\n",
            "Number of features: 29\n"
          ],
          "name": "stdout"
        }
      ]
    },
    {
      "cell_type": "code",
      "metadata": {
        "colab": {
          "base_uri": "https://localhost:8080/",
          "height": 445
        },
        "id": "ec56d0ff",
        "outputId": "c14a613b-b486-442e-f14e-6f44e36be5ca"
      },
      "source": [
        "# Checking distribution of null values\n",
        "plt.figure(figsize=(10,5))\n",
        "sns.heatmap(df.isnull(),yticklabels=False, cmap='crest')"
      ],
      "id": "ec56d0ff",
      "execution_count": 90,
      "outputs": [
        {
          "output_type": "execute_result",
          "data": {
            "text/plain": [
              "<matplotlib.axes._subplots.AxesSubplot at 0x7f6ad29bc0d0>"
            ]
          },
          "metadata": {
            "tags": []
          },
          "execution_count": 90
        },
        {
          "output_type": "display_data",
          "data": {
            "image/png": "[encoded data removed]",
            "text/plain": [
              "<Figure size 720x360 with 2 Axes>"
            ]
          },
          "metadata": {
            "tags": [],
            "needs_background": "light"
          }
        }
      ]
    },
    {
      "cell_type": "code",
      "metadata": {
        "colab": {
          "base_uri": "https://localhost:8080/"
        },
        "id": "XLEtYbmMitK0",
        "outputId": "da2d1d4b-ef80-4941-fe36-f2568fd87150"
      },
      "source": [
        "# Info of our dataset\n",
        "df.info()"
      ],
      "id": "XLEtYbmMitK0",
      "execution_count": 91,
      "outputs": [
        {
          "output_type": "stream",
          "text": [
            "<class 'pandas.core.frame.DataFrame'>\n",
            "RangeIndex: 15480 entries, 0 to 15479\n",
            "Data columns (total 29 columns):\n",
            " #   Column                 Non-Null Count  Dtype  \n",
            "---  ------                 --------------  -----  \n",
            " 0   Title                  15480 non-null  object \n",
            " 1   Genre                  13770 non-null  object \n",
            " 2   Tags                   15413 non-null  object \n",
            " 3   Languages              13545 non-null  object \n",
            " 4   Series or Movie        15480 non-null  object \n",
            " 5   Hidden Gem Score       13379 non-null  float64\n",
            " 6   Country Availability   15461 non-null  object \n",
            " 7   Runtime                15479 non-null  object \n",
            " 8   Director               10772 non-null  object \n",
            " 9   Writer                 11150 non-null  object \n",
            " 10  Actors                 13555 non-null  object \n",
            " 11  View Rating            8456 non-null   object \n",
            " 12  IMDb Score             13381 non-null  float64\n",
            " 13  Rotten Tomatoes Score  6382 non-null   float64\n",
            " 14  Metacritic Score       4336 non-null   float64\n",
            " 15  Awards Received        6075 non-null   float64\n",
            " 16  Awards Nominated For   7661 non-null   float64\n",
            " 17  Boxoffice              4007 non-null   object \n",
            " 18  Release Date           13373 non-null  object \n",
            " 19  Netflix Release Date   15480 non-null  object \n",
            " 20  Production House       5149 non-null   object \n",
            " 21  Netflix Link           15480 non-null  object \n",
            " 22  IMDb Link              13177 non-null  object \n",
            " 23  Summary                15471 non-null  object \n",
            " 24  IMDb Votes             13379 non-null  float64\n",
            " 25  Image                  15480 non-null  object \n",
            " 26  Poster                 11842 non-null  object \n",
            " 27  TMDb Trailer           7194 non-null   object \n",
            " 28  Trailer Site           7194 non-null   object \n",
            "dtypes: float64(7), object(22)\n",
            "memory usage: 3.4+ MB\n"
          ],
          "name": "stdout"
        }
      ]
    },
    {
      "cell_type": "code",
      "metadata": {
        "colab": {
          "base_uri": "https://localhost:8080/",
          "height": 205
        },
        "id": "2d67fc66",
        "outputId": "eb98d9ca-ff88-48a6-aef2-5bb7b5056b2f"
      },
      "source": [
        "# Missing data imputation\n",
        "ratings = df[['IMDb Score','Rotten Tomatoes Score','Metacritic Score','Awards Nominated For','Hidden Gem Score',\n",
        "             'IMDb Votes']]\n",
        "ratings.head()"
      ],
      "id": "2d67fc66",
      "execution_count": 92,
      "outputs": [
        {
          "output_type": "execute_result",
          "data": {
            "text/html": [
              "<div>\n",
              "<style scoped>\n",
              "    .dataframe tbody tr th:only-of-type {\n",
              "        vertical-align: middle;\n",
              "    }\n",
              "\n",
              "    .dataframe tbody tr th {\n",
              "        vertical-align: top;\n",
              "    }\n",
              "\n",
              "    .dataframe thead th {\n",
              "        text-align: right;\n",
              "    }\n",
              "</style>\n",
              "<table border=\"1\" class=\"dataframe\">\n",
              "  <thead>\n",
              "    <tr style=\"text-align: right;\">\n",
              "      <th></th>\n",
              "      <th>IMDb Score</th>\n",
              "      <th>Rotten Tomatoes Score</th>\n",
              "      <th>Metacritic Score</th>\n",
              "      <th>Awards Nominated For</th>\n",
              "      <th>Hidden Gem Score</th>\n",
              "      <th>IMDb Votes</th>\n",
              "    </tr>\n",
              "  </thead>\n",
              "  <tbody>\n",
              "    <tr>\n",
              "      <th>0</th>\n",
              "      <td>7.9</td>\n",
              "      <td>98.0</td>\n",
              "      <td>82.0</td>\n",
              "      <td>57.0</td>\n",
              "      <td>4.3</td>\n",
              "      <td>205926.0</td>\n",
              "    </tr>\n",
              "    <tr>\n",
              "      <th>1</th>\n",
              "      <td>5.8</td>\n",
              "      <td>79.0</td>\n",
              "      <td>69.0</td>\n",
              "      <td>NaN</td>\n",
              "      <td>7.0</td>\n",
              "      <td>2838.0</td>\n",
              "    </tr>\n",
              "    <tr>\n",
              "      <th>2</th>\n",
              "      <td>4.3</td>\n",
              "      <td>NaN</td>\n",
              "      <td>46.0</td>\n",
              "      <td>NaN</td>\n",
              "      <td>6.4</td>\n",
              "      <td>1720.0</td>\n",
              "    </tr>\n",
              "    <tr>\n",
              "      <th>3</th>\n",
              "      <td>6.5</td>\n",
              "      <td>NaN</td>\n",
              "      <td>NaN</td>\n",
              "      <td>NaN</td>\n",
              "      <td>7.7</td>\n",
              "      <td>1147.0</td>\n",
              "    </tr>\n",
              "    <tr>\n",
              "      <th>4</th>\n",
              "      <td>6.3</td>\n",
              "      <td>NaN</td>\n",
              "      <td>NaN</td>\n",
              "      <td>4.0</td>\n",
              "      <td>8.1</td>\n",
              "      <td>63.0</td>\n",
              "    </tr>\n",
              "  </tbody>\n",
              "</table>\n",
              "</div>"
            ],
            "text/plain": [
              "   IMDb Score  Rotten Tomatoes Score  Metacritic Score  Awards Nominated For  \\\n",
              "0         7.9                   98.0              82.0                  57.0   \n",
              "1         5.8                   79.0              69.0                   NaN   \n",
              "2         4.3                    NaN              46.0                   NaN   \n",
              "3         6.5                    NaN               NaN                   NaN   \n",
              "4         6.3                    NaN               NaN                   4.0   \n",
              "\n",
              "   Hidden Gem Score  IMDb Votes  \n",
              "0               4.3    205926.0  \n",
              "1               7.0      2838.0  \n",
              "2               6.4      1720.0  \n",
              "3               7.7      1147.0  \n",
              "4               8.1        63.0  "
            ]
          },
          "metadata": {
            "tags": []
          },
          "execution_count": 92
        }
      ]
    },
    {
      "cell_type": "markdown",
      "metadata": {
        "id": "b7CcCoJFljgg"
      },
      "source": [
        "## <b> Substituting missing values under Scoring section using KNN Imputer:</b>\n",
        "* We will not be using ratings in the content based recommendation model\n",
        "* We will be using the final ratings to subset our dataset"
      ],
      "id": "b7CcCoJFljgg"
    },
    {
      "cell_type": "code",
      "metadata": {
        "colab": {
          "base_uri": "https://localhost:8080/"
        },
        "id": "b8922d3a",
        "outputId": "e65c76a7-0ba7-43cb-8ca4-70a4c04560b2"
      },
      "source": [
        "# Checking info on ratings\n",
        "ratings.info()"
      ],
      "id": "b8922d3a",
      "execution_count": 93,
      "outputs": [
        {
          "output_type": "stream",
          "text": [
            "<class 'pandas.core.frame.DataFrame'>\n",
            "RangeIndex: 15480 entries, 0 to 15479\n",
            "Data columns (total 6 columns):\n",
            " #   Column                 Non-Null Count  Dtype  \n",
            "---  ------                 --------------  -----  \n",
            " 0   IMDb Score             13381 non-null  float64\n",
            " 1   Rotten Tomatoes Score  6382 non-null   float64\n",
            " 2   Metacritic Score       4336 non-null   float64\n",
            " 3   Awards Nominated For   7661 non-null   float64\n",
            " 4   Hidden Gem Score       13379 non-null  float64\n",
            " 5   IMDb Votes             13379 non-null  float64\n",
            "dtypes: float64(6)\n",
            "memory usage: 725.8 KB\n"
          ],
          "name": "stdout"
        }
      ]
    },
    {
      "cell_type": "code",
      "metadata": {
        "colab": {
          "base_uri": "https://localhost:8080/",
          "height": 205
        },
        "id": "2c121122",
        "outputId": "0076f30f-a19f-467a-abad-9bd848318b6a"
      },
      "source": [
        "# Scaling these features\n",
        "from sklearn.preprocessing import MinMaxScaler\n",
        "scaler=MinMaxScaler()\n",
        "ratings=pd.DataFrame(scaler.fit_transform(ratings), columns=ratings.columns)\n",
        "ratings.head()"
      ],
      "id": "2c121122",
      "execution_count": 94,
      "outputs": [
        {
          "output_type": "execute_result",
          "data": {
            "text/html": [
              "<div>\n",
              "<style scoped>\n",
              "    .dataframe tbody tr th:only-of-type {\n",
              "        vertical-align: middle;\n",
              "    }\n",
              "\n",
              "    .dataframe tbody tr th {\n",
              "        vertical-align: top;\n",
              "    }\n",
              "\n",
              "    .dataframe thead th {\n",
              "        text-align: right;\n",
              "    }\n",
              "</style>\n",
              "<table border=\"1\" class=\"dataframe\">\n",
              "  <thead>\n",
              "    <tr style=\"text-align: right;\">\n",
              "      <th></th>\n",
              "      <th>IMDb Score</th>\n",
              "      <th>Rotten Tomatoes Score</th>\n",
              "      <th>Metacritic Score</th>\n",
              "      <th>Awards Nominated For</th>\n",
              "      <th>Hidden Gem Score</th>\n",
              "      <th>IMDb Votes</th>\n",
              "    </tr>\n",
              "  </thead>\n",
              "  <tbody>\n",
              "    <tr>\n",
              "      <th>0</th>\n",
              "      <td>0.793103</td>\n",
              "      <td>0.98</td>\n",
              "      <td>0.810526</td>\n",
              "      <td>0.145455</td>\n",
              "      <td>0.402174</td>\n",
              "      <td>0.087470</td>\n",
              "    </tr>\n",
              "    <tr>\n",
              "      <th>1</th>\n",
              "      <td>0.551724</td>\n",
              "      <td>0.79</td>\n",
              "      <td>0.673684</td>\n",
              "      <td>NaN</td>\n",
              "      <td>0.695652</td>\n",
              "      <td>0.001203</td>\n",
              "    </tr>\n",
              "    <tr>\n",
              "      <th>2</th>\n",
              "      <td>0.379310</td>\n",
              "      <td>NaN</td>\n",
              "      <td>0.431579</td>\n",
              "      <td>NaN</td>\n",
              "      <td>0.630435</td>\n",
              "      <td>0.000728</td>\n",
              "    </tr>\n",
              "    <tr>\n",
              "      <th>3</th>\n",
              "      <td>0.632184</td>\n",
              "      <td>NaN</td>\n",
              "      <td>NaN</td>\n",
              "      <td>NaN</td>\n",
              "      <td>0.771739</td>\n",
              "      <td>0.000485</td>\n",
              "    </tr>\n",
              "    <tr>\n",
              "      <th>4</th>\n",
              "      <td>0.609195</td>\n",
              "      <td>NaN</td>\n",
              "      <td>NaN</td>\n",
              "      <td>0.007792</td>\n",
              "      <td>0.815217</td>\n",
              "      <td>0.000025</td>\n",
              "    </tr>\n",
              "  </tbody>\n",
              "</table>\n",
              "</div>"
            ],
            "text/plain": [
              "   IMDb Score  Rotten Tomatoes Score  Metacritic Score  Awards Nominated For  \\\n",
              "0    0.793103                   0.98          0.810526              0.145455   \n",
              "1    0.551724                   0.79          0.673684                   NaN   \n",
              "2    0.379310                    NaN          0.431579                   NaN   \n",
              "3    0.632184                    NaN               NaN                   NaN   \n",
              "4    0.609195                    NaN               NaN              0.007792   \n",
              "\n",
              "   Hidden Gem Score  IMDb Votes  \n",
              "0          0.402174    0.087470  \n",
              "1          0.695652    0.001203  \n",
              "2          0.630435    0.000728  \n",
              "3          0.771739    0.000485  \n",
              "4          0.815217    0.000025  "
            ]
          },
          "metadata": {
            "tags": []
          },
          "execution_count": 94
        }
      ]
    },
    {
      "cell_type": "code",
      "metadata": {
        "colab": {
          "base_uri": "https://localhost:8080/"
        },
        "id": "9cee0882",
        "outputId": "a7dd5a9b-1a5b-4525-c8cd-35c7cbef6f55"
      },
      "source": [
        "#Number of null values we have in total\n",
        "ratings.isnull().sum()"
      ],
      "id": "9cee0882",
      "execution_count": 95,
      "outputs": [
        {
          "output_type": "execute_result",
          "data": {
            "text/plain": [
              "IMDb Score                2099\n",
              "Rotten Tomatoes Score     9098\n",
              "Metacritic Score         11144\n",
              "Awards Nominated For      7819\n",
              "Hidden Gem Score          2101\n",
              "IMDb Votes                2101\n",
              "dtype: int64"
            ]
          },
          "metadata": {
            "tags": []
          },
          "execution_count": 95
        }
      ]
    },
    {
      "cell_type": "code",
      "metadata": {
        "id": "250ab72c"
      },
      "source": [
        "# Missing value imputation using Knn\n",
        "from sklearn.impute import KNNImputer\n",
        "from sklearn.model_selection import RandomizedSearchCV\n",
        "imputer = KNNImputer(n_neighbors=5)\n",
        "ratings=pd.DataFrame(imputer.fit_transform(ratings),columns=ratings.columns)"
      ],
      "id": "250ab72c",
      "execution_count": 96,
      "outputs": []
    },
    {
      "cell_type": "code",
      "metadata": {
        "id": "2fa93e4f"
      },
      "source": [
        "# Calculating final ratings by assigning weights\n",
        "ratings['final_ratings'] = 0.4*((ratings['IMDb Score']+ratings['Rotten Tomatoes Score']+ratings['Metacritic Score']+ratings['Hidden Gem Score'])/4) + 0.4*ratings['Awards Nominated For'] + 0.2*ratings['IMDb Votes'] "
      ],
      "id": "2fa93e4f",
      "execution_count": 97,
      "outputs": []
    },
    {
      "cell_type": "code",
      "metadata": {
        "colab": {
          "base_uri": "https://localhost:8080/",
          "height": 205
        },
        "id": "f72126f5",
        "outputId": "2ba0b831-eea4-48ad-c4b8-0eae0396a29b"
      },
      "source": [
        "# Final ratings after imputing mising values\n",
        "ratings.head()"
      ],
      "id": "f72126f5",
      "execution_count": 98,
      "outputs": [
        {
          "output_type": "execute_result",
          "data": {
            "text/html": [
              "<div>\n",
              "<style scoped>\n",
              "    .dataframe tbody tr th:only-of-type {\n",
              "        vertical-align: middle;\n",
              "    }\n",
              "\n",
              "    .dataframe tbody tr th {\n",
              "        vertical-align: top;\n",
              "    }\n",
              "\n",
              "    .dataframe thead th {\n",
              "        text-align: right;\n",
              "    }\n",
              "</style>\n",
              "<table border=\"1\" class=\"dataframe\">\n",
              "  <thead>\n",
              "    <tr style=\"text-align: right;\">\n",
              "      <th></th>\n",
              "      <th>IMDb Score</th>\n",
              "      <th>Rotten Tomatoes Score</th>\n",
              "      <th>Metacritic Score</th>\n",
              "      <th>Awards Nominated For</th>\n",
              "      <th>Hidden Gem Score</th>\n",
              "      <th>IMDb Votes</th>\n",
              "      <th>final_ratings</th>\n",
              "    </tr>\n",
              "  </thead>\n",
              "  <tbody>\n",
              "    <tr>\n",
              "      <th>0</th>\n",
              "      <td>0.793103</td>\n",
              "      <td>0.980</td>\n",
              "      <td>0.810526</td>\n",
              "      <td>0.145455</td>\n",
              "      <td>0.402174</td>\n",
              "      <td>0.087470</td>\n",
              "      <td>0.374256</td>\n",
              "    </tr>\n",
              "    <tr>\n",
              "      <th>1</th>\n",
              "      <td>0.551724</td>\n",
              "      <td>0.790</td>\n",
              "      <td>0.673684</td>\n",
              "      <td>0.004156</td>\n",
              "      <td>0.695652</td>\n",
              "      <td>0.001203</td>\n",
              "      <td>0.273009</td>\n",
              "    </tr>\n",
              "    <tr>\n",
              "      <th>2</th>\n",
              "      <td>0.379310</td>\n",
              "      <td>0.228</td>\n",
              "      <td>0.431579</td>\n",
              "      <td>0.005195</td>\n",
              "      <td>0.630435</td>\n",
              "      <td>0.000728</td>\n",
              "      <td>0.169156</td>\n",
              "    </tr>\n",
              "    <tr>\n",
              "      <th>3</th>\n",
              "      <td>0.632184</td>\n",
              "      <td>0.670</td>\n",
              "      <td>0.705263</td>\n",
              "      <td>0.008831</td>\n",
              "      <td>0.771739</td>\n",
              "      <td>0.000485</td>\n",
              "      <td>0.281548</td>\n",
              "    </tr>\n",
              "    <tr>\n",
              "      <th>4</th>\n",
              "      <td>0.609195</td>\n",
              "      <td>0.714</td>\n",
              "      <td>0.646316</td>\n",
              "      <td>0.007792</td>\n",
              "      <td>0.815217</td>\n",
              "      <td>0.000025</td>\n",
              "      <td>0.281595</td>\n",
              "    </tr>\n",
              "  </tbody>\n",
              "</table>\n",
              "</div>"
            ],
            "text/plain": [
              "   IMDb Score  Rotten Tomatoes Score  Metacritic Score  Awards Nominated For  \\\n",
              "0    0.793103                  0.980          0.810526              0.145455   \n",
              "1    0.551724                  0.790          0.673684              0.004156   \n",
              "2    0.379310                  0.228          0.431579              0.005195   \n",
              "3    0.632184                  0.670          0.705263              0.008831   \n",
              "4    0.609195                  0.714          0.646316              0.007792   \n",
              "\n",
              "   Hidden Gem Score  IMDb Votes  final_ratings  \n",
              "0          0.402174    0.087470       0.374256  \n",
              "1          0.695652    0.001203       0.273009  \n",
              "2          0.630435    0.000728       0.169156  \n",
              "3          0.771739    0.000485       0.281548  \n",
              "4          0.815217    0.000025       0.281595  "
            ]
          },
          "metadata": {
            "tags": []
          },
          "execution_count": 98
        }
      ]
    },
    {
      "cell_type": "code",
      "metadata": {
        "colab": {
          "base_uri": "https://localhost:8080/",
          "height": 664
        },
        "id": "a4bb19b4",
        "outputId": "fcf7d4ec-9901-46d8-fbd7-dc6bbec14354"
      },
      "source": [
        "# Adding the final ratings to the parent dataset\n",
        "df['final_ratings']=ratings['final_ratings']\n",
        "df.head(3)"
      ],
      "id": "a4bb19b4",
      "execution_count": 99,
      "outputs": [
        {
          "output_type": "execute_result",
          "data": {
            "text/html": [
              "<div>\n",
              "<style scoped>\n",
              "    .dataframe tbody tr th:only-of-type {\n",
              "        vertical-align: middle;\n",
              "    }\n",
              "\n",
              "    .dataframe tbody tr th {\n",
              "        vertical-align: top;\n",
              "    }\n",
              "\n",
              "    .dataframe thead th {\n",
              "        text-align: right;\n",
              "    }\n",
              "</style>\n",
              "<table border=\"1\" class=\"dataframe\">\n",
              "  <thead>\n",
              "    <tr style=\"text-align: right;\">\n",
              "      <th></th>\n",
              "      <th>Title</th>\n",
              "      <th>Genre</th>\n",
              "      <th>Tags</th>\n",
              "      <th>Languages</th>\n",
              "      <th>Series or Movie</th>\n",
              "      <th>Hidden Gem Score</th>\n",
              "      <th>Country Availability</th>\n",
              "      <th>Runtime</th>\n",
              "      <th>Director</th>\n",
              "      <th>Writer</th>\n",
              "      <th>Actors</th>\n",
              "      <th>View Rating</th>\n",
              "      <th>IMDb Score</th>\n",
              "      <th>Rotten Tomatoes Score</th>\n",
              "      <th>Metacritic Score</th>\n",
              "      <th>Awards Received</th>\n",
              "      <th>Awards Nominated For</th>\n",
              "      <th>Boxoffice</th>\n",
              "      <th>Release Date</th>\n",
              "      <th>Netflix Release Date</th>\n",
              "      <th>Production House</th>\n",
              "      <th>Netflix Link</th>\n",
              "      <th>IMDb Link</th>\n",
              "      <th>Summary</th>\n",
              "      <th>IMDb Votes</th>\n",
              "      <th>Image</th>\n",
              "      <th>Poster</th>\n",
              "      <th>TMDb Trailer</th>\n",
              "      <th>Trailer Site</th>\n",
              "      <th>final_ratings</th>\n",
              "    </tr>\n",
              "  </thead>\n",
              "  <tbody>\n",
              "    <tr>\n",
              "      <th>0</th>\n",
              "      <td>Lets Fight Ghost</td>\n",
              "      <td>Crime, Drama, Fantasy, Horror, Romance</td>\n",
              "      <td>Comedy Programmes,Romantic TV Comedies,Horror Programmes,Thai TV Programmes</td>\n",
              "      <td>Swedish, Spanish</td>\n",
              "      <td>Series</td>\n",
              "      <td>4.3</td>\n",
              "      <td>Thailand</td>\n",
              "      <td>&lt; 30 minutes</td>\n",
              "      <td>Tomas Alfredson</td>\n",
              "      <td>John Ajvide Lindqvist</td>\n",
              "      <td>Kåre Hedebrant, Per Ragnar, Lina Leandersson, Henrik Dahl</td>\n",
              "      <td>R</td>\n",
              "      <td>7.9</td>\n",
              "      <td>98.0</td>\n",
              "      <td>82.0</td>\n",
              "      <td>74.0</td>\n",
              "      <td>57.0</td>\n",
              "      <td>$2,122,065</td>\n",
              "      <td>12 Dec 2008</td>\n",
              "      <td>2021-03-04</td>\n",
              "      <td>Canal+, Sandrew Metronome</td>\n",
              "      <td>https://www.netflix.com/watch/81415947</td>\n",
              "      <td>https://www.imdb.com/title/tt1139797</td>\n",
              "      <td>A med student with a supernatural gift tries to cash in on his abilities by facing off against g...</td>\n",
              "      <td>205926.0</td>\n",
              "      <td>https://occ-0-4708-64.1.nflxso.net/dnm/api/v6/evlCitJPPCVCry0BZlEFb5-QjKc/AAAABcmgLCxN8dNahdY2kg...</td>\n",
              "      <td>https://m.media-amazon.com/images/M/MV5BOWM4NTY2NTMtZDZlZS00NTgyLWEzZDMtODE3ZGI1MzI3ZmU5XkEyXkFq...</td>\n",
              "      <td>NaN</td>\n",
              "      <td>NaN</td>\n",
              "      <td>0.374256</td>\n",
              "    </tr>\n",
              "    <tr>\n",
              "      <th>1</th>\n",
              "      <td>HOW TO BUILD A GIRL</td>\n",
              "      <td>Comedy</td>\n",
              "      <td>Dramas,Comedies,Films Based on Books,British</td>\n",
              "      <td>English</td>\n",
              "      <td>Movie</td>\n",
              "      <td>7.0</td>\n",
              "      <td>Canada</td>\n",
              "      <td>1-2 hour</td>\n",
              "      <td>Coky Giedroyc</td>\n",
              "      <td>Caitlin Moran</td>\n",
              "      <td>Paddy Considine, Cleo, Beanie Feldstein, Dónal Finn</td>\n",
              "      <td>R</td>\n",
              "      <td>5.8</td>\n",
              "      <td>79.0</td>\n",
              "      <td>69.0</td>\n",
              "      <td>1.0</td>\n",
              "      <td>NaN</td>\n",
              "      <td>$70,632</td>\n",
              "      <td>08 May 2020</td>\n",
              "      <td>2021-03-04</td>\n",
              "      <td>Film 4, Monumental Pictures, Lionsgate</td>\n",
              "      <td>https://www.netflix.com/watch/81041267</td>\n",
              "      <td>https://www.imdb.com/title/tt4193072</td>\n",
              "      <td>When nerdy Johanna moves to London, things get out of hand when she reinvents herself as a bad-m...</td>\n",
              "      <td>2838.0</td>\n",
              "      <td>https://occ-0-1081-999.1.nflxso.net/dnm/api/v6/evlCitJPPCVCry0BZlEFb5-QjKc/AAAABe_fxMSBM1E-sSosz...</td>\n",
              "      <td>https://m.media-amazon.com/images/M/MV5BZGUyN2ZlMjYtZTk2Yy00MWZiLWIyMDktMzFlMmEzOWVlMGNiXkEyXkFq...</td>\n",
              "      <td>https://www.youtube.com/watch?v=eIbcxPy4okQ</td>\n",
              "      <td>YouTube</td>\n",
              "      <td>0.273009</td>\n",
              "    </tr>\n",
              "    <tr>\n",
              "      <th>2</th>\n",
              "      <td>Centigrade</td>\n",
              "      <td>Drama, Thriller</td>\n",
              "      <td>Thrillers</td>\n",
              "      <td>English</td>\n",
              "      <td>Movie</td>\n",
              "      <td>6.4</td>\n",
              "      <td>Canada</td>\n",
              "      <td>1-2 hour</td>\n",
              "      <td>Brendan Walsh</td>\n",
              "      <td>Brendan Walsh, Daley Nixon</td>\n",
              "      <td>Genesis Rodriguez, Vincent Piazza</td>\n",
              "      <td>Unrated</td>\n",
              "      <td>4.3</td>\n",
              "      <td>NaN</td>\n",
              "      <td>46.0</td>\n",
              "      <td>NaN</td>\n",
              "      <td>NaN</td>\n",
              "      <td>$16,263</td>\n",
              "      <td>28 Aug 2020</td>\n",
              "      <td>2021-03-04</td>\n",
              "      <td>NaN</td>\n",
              "      <td>https://www.netflix.com/watch/81305978</td>\n",
              "      <td>https://www.imdb.com/title/tt8945942</td>\n",
              "      <td>Trapped in a frozen car during a blizzard, a pregnant woman and her husband fight to survive whi...</td>\n",
              "      <td>1720.0</td>\n",
              "      <td>https://occ-0-1081-999.1.nflxso.net/dnm/api/v6/evlCitJPPCVCry0BZlEFb5-QjKc/AAAABW-fG-2_s3pGsBdbw...</td>\n",
              "      <td>https://m.media-amazon.com/images/M/MV5BODM2MDQ5MjktYTM1ZS00Y2M4LTg0MDAtZjFjZDM1MDQxZGRmXkEyXkFq...</td>\n",
              "      <td>https://www.youtube.com/watch?v=0RvV7TNUlkQ</td>\n",
              "      <td>YouTube</td>\n",
              "      <td>0.169156</td>\n",
              "    </tr>\n",
              "  </tbody>\n",
              "</table>\n",
              "</div>"
            ],
            "text/plain": [
              "                 Title                                   Genre  \\\n",
              "0     Lets Fight Ghost  Crime, Drama, Fantasy, Horror, Romance   \n",
              "1  HOW TO BUILD A GIRL                                  Comedy   \n",
              "2           Centigrade                         Drama, Thriller   \n",
              "\n",
              "                                                                          Tags  \\\n",
              "0  Comedy Programmes,Romantic TV Comedies,Horror Programmes,Thai TV Programmes   \n",
              "1                                 Dramas,Comedies,Films Based on Books,British   \n",
              "2                                                                    Thrillers   \n",
              "\n",
              "          Languages Series or Movie  Hidden Gem Score Country Availability  \\\n",
              "0  Swedish, Spanish          Series               4.3             Thailand   \n",
              "1           English           Movie               7.0               Canada   \n",
              "2           English           Movie               6.4               Canada   \n",
              "\n",
              "        Runtime         Director                      Writer  \\\n",
              "0  < 30 minutes  Tomas Alfredson       John Ajvide Lindqvist   \n",
              "1      1-2 hour    Coky Giedroyc               Caitlin Moran   \n",
              "2      1-2 hour    Brendan Walsh  Brendan Walsh, Daley Nixon   \n",
              "\n",
              "                                                      Actors View Rating  \\\n",
              "0  Kåre Hedebrant, Per Ragnar, Lina Leandersson, Henrik Dahl           R   \n",
              "1        Paddy Considine, Cleo, Beanie Feldstein, Dónal Finn           R   \n",
              "2                          Genesis Rodriguez, Vincent Piazza     Unrated   \n",
              "\n",
              "   IMDb Score  Rotten Tomatoes Score  Metacritic Score  Awards Received  \\\n",
              "0         7.9                   98.0              82.0             74.0   \n",
              "1         5.8                   79.0              69.0              1.0   \n",
              "2         4.3                    NaN              46.0              NaN   \n",
              "\n",
              "   Awards Nominated For   Boxoffice Release Date Netflix Release Date  \\\n",
              "0                  57.0  $2,122,065  12 Dec 2008           2021-03-04   \n",
              "1                   NaN     $70,632  08 May 2020           2021-03-04   \n",
              "2                   NaN     $16,263  28 Aug 2020           2021-03-04   \n",
              "\n",
              "                         Production House  \\\n",
              "0               Canal+, Sandrew Metronome   \n",
              "1  Film 4, Monumental Pictures, Lionsgate   \n",
              "2                                     NaN   \n",
              "\n",
              "                             Netflix Link  \\\n",
              "0  https://www.netflix.com/watch/81415947   \n",
              "1  https://www.netflix.com/watch/81041267   \n",
              "2  https://www.netflix.com/watch/81305978   \n",
              "\n",
              "                              IMDb Link  \\\n",
              "0  https://www.imdb.com/title/tt1139797   \n",
              "1  https://www.imdb.com/title/tt4193072   \n",
              "2  https://www.imdb.com/title/tt8945942   \n",
              "\n",
              "                                                                                               Summary  \\\n",
              "0  A med student with a supernatural gift tries to cash in on his abilities by facing off against g...   \n",
              "1  When nerdy Johanna moves to London, things get out of hand when she reinvents herself as a bad-m...   \n",
              "2  Trapped in a frozen car during a blizzard, a pregnant woman and her husband fight to survive whi...   \n",
              "\n",
              "   IMDb Votes  \\\n",
              "0    205926.0   \n",
              "1      2838.0   \n",
              "2      1720.0   \n",
              "\n",
              "                                                                                                 Image  \\\n",
              "0  https://occ-0-4708-64.1.nflxso.net/dnm/api/v6/evlCitJPPCVCry0BZlEFb5-QjKc/AAAABcmgLCxN8dNahdY2kg...   \n",
              "1  https://occ-0-1081-999.1.nflxso.net/dnm/api/v6/evlCitJPPCVCry0BZlEFb5-QjKc/AAAABe_fxMSBM1E-sSosz...   \n",
              "2  https://occ-0-1081-999.1.nflxso.net/dnm/api/v6/evlCitJPPCVCry0BZlEFb5-QjKc/AAAABW-fG-2_s3pGsBdbw...   \n",
              "\n",
              "                                                                                                Poster  \\\n",
              "0  https://m.media-amazon.com/images/M/MV5BOWM4NTY2NTMtZDZlZS00NTgyLWEzZDMtODE3ZGI1MzI3ZmU5XkEyXkFq...   \n",
              "1  https://m.media-amazon.com/images/M/MV5BZGUyN2ZlMjYtZTk2Yy00MWZiLWIyMDktMzFlMmEzOWVlMGNiXkEyXkFq...   \n",
              "2  https://m.media-amazon.com/images/M/MV5BODM2MDQ5MjktYTM1ZS00Y2M4LTg0MDAtZjFjZDM1MDQxZGRmXkEyXkFq...   \n",
              "\n",
              "                                  TMDb Trailer Trailer Site  final_ratings  \n",
              "0                                          NaN          NaN       0.374256  \n",
              "1  https://www.youtube.com/watch?v=eIbcxPy4okQ      YouTube       0.273009  \n",
              "2  https://www.youtube.com/watch?v=0RvV7TNUlkQ      YouTube       0.169156  "
            ]
          },
          "metadata": {
            "tags": []
          },
          "execution_count": 99
        }
      ]
    },
    {
      "cell_type": "markdown",
      "metadata": {
        "id": "lQQNzlRRmG4p"
      },
      "source": [
        "## <b> Plotting final ratings:</b>\n",
        "* We will be using only those movies having final-ratings above a particular threshold"
      ],
      "id": "lQQNzlRRmG4p"
    },
    {
      "cell_type": "code",
      "metadata": {
        "colab": {
          "base_uri": "https://localhost:8080/",
          "height": 422
        },
        "id": "7b0f2e65",
        "outputId": "91d86228-c151-45ef-b0d2-2622eb66e7a3"
      },
      "source": [
        "# Plotting final ratings\n",
        "plt.figure(figsize=(14,6))\n",
        "plt.subplot(1,2,1)\n",
        "df.boxplot('final_ratings')\n",
        "plt.title(\"Boxplot distribution of ratings\")\n",
        "\n",
        "plt.subplot(1,2,2)\n",
        "sns.distplot(df['final_ratings'])\n",
        "plt.title(\"Distribution of ratings\")"
      ],
      "id": "7b0f2e65",
      "execution_count": 100,
      "outputs": [
        {
          "output_type": "execute_result",
          "data": {
            "text/plain": [
              "Text(0.5, 1.0, 'Distribution of ratings')"
            ]
          },
          "metadata": {
            "tags": []
          },
          "execution_count": 100
        },
        {
          "output_type": "display_data",
          "data": {
            "image/png": "[encoded data removed]",
            "text/plain": [
              "<Figure size 1008x432 with 2 Axes>"
            ]
          },
          "metadata": {
            "tags": [],
            "needs_background": "light"
          }
        }
      ]
    },
    {
      "cell_type": "markdown",
      "metadata": {
        "id": "Ckmq0IcAmQWz"
      },
      "source": [
        "<b>Conclusion:</b>\n",
        "As the box plot and the distribution plot tells us that there are few outliers, we will be subsetting our dataset and only consider those movies having final ratings above 0.1"
      ],
      "id": "Ckmq0IcAmQWz"
    },
    {
      "cell_type": "code",
      "metadata": {
        "id": "755b736b"
      },
      "source": [
        "# Selecting only those movies having rating more than 0.1\n",
        "df=df[df['final_ratings']>0.1]"
      ],
      "id": "755b736b",
      "execution_count": 101,
      "outputs": []
    },
    {
      "cell_type": "markdown",
      "metadata": {
        "id": "QgEYWsa7mm6j"
      },
      "source": [
        "## <b>Subsetting Contents of our Movies:</b>\n",
        "* The features will be used in our recommender system\n",
        "* We will use Genres, Languages, Director, Writer, Actors and Summary of the movies as contents\n",
        "* Majority of the values in 'Genres' are null, which can be replaced by the corresponding values in the 'Tags' feature "
      ],
      "id": "QgEYWsa7mm6j"
    },
    {
      "cell_type": "code",
      "metadata": {
        "colab": {
          "base_uri": "https://localhost:8080/",
          "height": 499
        },
        "id": "4442f718",
        "outputId": "8773c0f1-8b16-4d3e-c77d-ac864ccca003"
      },
      "source": [
        "# Choosing contents of our movies\n",
        "data=df[['Title','Genre','Tags','Languages','Director','Writer','Actors','Summary']]\n",
        "data.head()"
      ],
      "id": "4442f718",
      "execution_count": 102,
      "outputs": [
        {
          "output_type": "execute_result",
          "data": {
            "text/html": [
              "<div>\n",
              "<style scoped>\n",
              "    .dataframe tbody tr th:only-of-type {\n",
              "        vertical-align: middle;\n",
              "    }\n",
              "\n",
              "    .dataframe tbody tr th {\n",
              "        vertical-align: top;\n",
              "    }\n",
              "\n",
              "    .dataframe thead th {\n",
              "        text-align: right;\n",
              "    }\n",
              "</style>\n",
              "<table border=\"1\" class=\"dataframe\">\n",
              "  <thead>\n",
              "    <tr style=\"text-align: right;\">\n",
              "      <th></th>\n",
              "      <th>Title</th>\n",
              "      <th>Genre</th>\n",
              "      <th>Tags</th>\n",
              "      <th>Languages</th>\n",
              "      <th>Director</th>\n",
              "      <th>Writer</th>\n",
              "      <th>Actors</th>\n",
              "      <th>Summary</th>\n",
              "    </tr>\n",
              "  </thead>\n",
              "  <tbody>\n",
              "    <tr>\n",
              "      <th>0</th>\n",
              "      <td>Lets Fight Ghost</td>\n",
              "      <td>Crime, Drama, Fantasy, Horror, Romance</td>\n",
              "      <td>Comedy Programmes,Romantic TV Comedies,Horror Programmes,Thai TV Programmes</td>\n",
              "      <td>Swedish, Spanish</td>\n",
              "      <td>Tomas Alfredson</td>\n",
              "      <td>John Ajvide Lindqvist</td>\n",
              "      <td>Kåre Hedebrant, Per Ragnar, Lina Leandersson, Henrik Dahl</td>\n",
              "      <td>A med student with a supernatural gift tries to cash in on his abilities by facing off against g...</td>\n",
              "    </tr>\n",
              "    <tr>\n",
              "      <th>1</th>\n",
              "      <td>HOW TO BUILD A GIRL</td>\n",
              "      <td>Comedy</td>\n",
              "      <td>Dramas,Comedies,Films Based on Books,British</td>\n",
              "      <td>English</td>\n",
              "      <td>Coky Giedroyc</td>\n",
              "      <td>Caitlin Moran</td>\n",
              "      <td>Paddy Considine, Cleo, Beanie Feldstein, Dónal Finn</td>\n",
              "      <td>When nerdy Johanna moves to London, things get out of hand when she reinvents herself as a bad-m...</td>\n",
              "    </tr>\n",
              "    <tr>\n",
              "      <th>2</th>\n",
              "      <td>Centigrade</td>\n",
              "      <td>Drama, Thriller</td>\n",
              "      <td>Thrillers</td>\n",
              "      <td>English</td>\n",
              "      <td>Brendan Walsh</td>\n",
              "      <td>Brendan Walsh, Daley Nixon</td>\n",
              "      <td>Genesis Rodriguez, Vincent Piazza</td>\n",
              "      <td>Trapped in a frozen car during a blizzard, a pregnant woman and her husband fight to survive whi...</td>\n",
              "    </tr>\n",
              "    <tr>\n",
              "      <th>3</th>\n",
              "      <td>ANNE+</td>\n",
              "      <td>Drama</td>\n",
              "      <td>TV Dramas,Romantic TV Dramas,Dutch TV Shows</td>\n",
              "      <td>Turkish</td>\n",
              "      <td>NaN</td>\n",
              "      <td>NaN</td>\n",
              "      <td>Vahide Perçin, Gonca Vuslateri, Cansu Dere, Beren Gokyildiz</td>\n",
              "      <td>Upon moving into a new place, a 20-something runs into a former flame that triggers memories of ...</td>\n",
              "    </tr>\n",
              "    <tr>\n",
              "      <th>4</th>\n",
              "      <td>Moxie</td>\n",
              "      <td>Animation, Short, Drama</td>\n",
              "      <td>Social Issue Dramas,Teen Movies,Dramas,Comedies,Movies Based on Books</td>\n",
              "      <td>English</td>\n",
              "      <td>Stephen Irwin</td>\n",
              "      <td>NaN</td>\n",
              "      <td>Ragga Gudrun</td>\n",
              "      <td>Inspired by her moms rebellious past and a confident new friend, a shy 16-year-old publishes an ...</td>\n",
              "    </tr>\n",
              "  </tbody>\n",
              "</table>\n",
              "</div>"
            ],
            "text/plain": [
              "                 Title                                   Genre  \\\n",
              "0     Lets Fight Ghost  Crime, Drama, Fantasy, Horror, Romance   \n",
              "1  HOW TO BUILD A GIRL                                  Comedy   \n",
              "2           Centigrade                         Drama, Thriller   \n",
              "3                ANNE+                                   Drama   \n",
              "4                Moxie                 Animation, Short, Drama   \n",
              "\n",
              "                                                                          Tags  \\\n",
              "0  Comedy Programmes,Romantic TV Comedies,Horror Programmes,Thai TV Programmes   \n",
              "1                                 Dramas,Comedies,Films Based on Books,British   \n",
              "2                                                                    Thrillers   \n",
              "3                                  TV Dramas,Romantic TV Dramas,Dutch TV Shows   \n",
              "4        Social Issue Dramas,Teen Movies,Dramas,Comedies,Movies Based on Books   \n",
              "\n",
              "          Languages         Director                      Writer  \\\n",
              "0  Swedish, Spanish  Tomas Alfredson       John Ajvide Lindqvist   \n",
              "1           English    Coky Giedroyc               Caitlin Moran   \n",
              "2           English    Brendan Walsh  Brendan Walsh, Daley Nixon   \n",
              "3           Turkish              NaN                         NaN   \n",
              "4           English    Stephen Irwin                         NaN   \n",
              "\n",
              "                                                        Actors  \\\n",
              "0    Kåre Hedebrant, Per Ragnar, Lina Leandersson, Henrik Dahl   \n",
              "1          Paddy Considine, Cleo, Beanie Feldstein, Dónal Finn   \n",
              "2                            Genesis Rodriguez, Vincent Piazza   \n",
              "3  Vahide Perçin, Gonca Vuslateri, Cansu Dere, Beren Gokyildiz   \n",
              "4                                                 Ragga Gudrun   \n",
              "\n",
              "                                                                                               Summary  \n",
              "0  A med student with a supernatural gift tries to cash in on his abilities by facing off against g...  \n",
              "1  When nerdy Johanna moves to London, things get out of hand when she reinvents herself as a bad-m...  \n",
              "2  Trapped in a frozen car during a blizzard, a pregnant woman and her husband fight to survive whi...  \n",
              "3  Upon moving into a new place, a 20-something runs into a former flame that triggers memories of ...  \n",
              "4  Inspired by her moms rebellious past and a confident new friend, a shy 16-year-old publishes an ...  "
            ]
          },
          "metadata": {
            "tags": []
          },
          "execution_count": 102
        }
      ]
    },
    {
      "cell_type": "code",
      "metadata": {
        "colab": {
          "base_uri": "https://localhost:8080/",
          "height": 341
        },
        "id": "a4ad9796",
        "outputId": "20ea4499-73b7-4be4-a333-367c956271f9"
      },
      "source": [
        "# checking null values\n",
        "plt.figure(figsize=(10,5))\n",
        "sns.heatmap(data.isnull(),yticklabels=False, cmap='crest')"
      ],
      "id": "a4ad9796",
      "execution_count": 103,
      "outputs": [
        {
          "output_type": "execute_result",
          "data": {
            "text/plain": [
              "<matplotlib.axes._subplots.AxesSubplot at 0x7f6ad1290810>"
            ]
          },
          "metadata": {
            "tags": []
          },
          "execution_count": 103
        },
        {
          "output_type": "display_data",
          "data": {
            "image/png": "[encoded data removed]",
            "text/plain": [
              "<Figure size 720x360 with 2 Axes>"
            ]
          },
          "metadata": {
            "tags": [],
            "needs_background": "light"
          }
        }
      ]
    },
    {
      "cell_type": "code",
      "metadata": {
        "colab": {
          "base_uri": "https://localhost:8080/"
        },
        "id": "b9862e1f",
        "outputId": "04f8a695-7d74-4beb-dcbd-07b065be646e"
      },
      "source": [
        "# Null vallues counts\n",
        "data.isnull().sum()"
      ],
      "id": "b9862e1f",
      "execution_count": 104,
      "outputs": [
        {
          "output_type": "execute_result",
          "data": {
            "text/plain": [
              "Title           0\n",
              "Genre        1710\n",
              "Tags           66\n",
              "Languages    1935\n",
              "Director     4706\n",
              "Writer       4328\n",
              "Actors       1925\n",
              "Summary         9\n",
              "dtype: int64"
            ]
          },
          "metadata": {
            "tags": []
          },
          "execution_count": 104
        }
      ]
    },
    {
      "cell_type": "markdown",
      "metadata": {
        "id": "a18dce6a"
      },
      "source": [
        "## <b>Working with the 'Genre' feature:</b>\n",
        "* We will extract the unique genres in our dataset\n",
        "* Majority of the values in 'Genre' are null, so the value in 'Tags' column can be substituted in their place\n",
        "* Before that, we need proper pre-processing to do in the Tags column  "
      ],
      "id": "a18dce6a"
    },
    {
      "cell_type": "code",
      "metadata": {
        "id": "59075b88"
      },
      "source": [
        "# Resetting index\n",
        "data.reset_index(inplace=True)\n",
        "data.drop('index',axis=1, inplace=True)"
      ],
      "id": "59075b88",
      "execution_count": 105,
      "outputs": []
    },
    {
      "cell_type": "code",
      "metadata": {
        "id": "da216f97"
      },
      "source": [
        "# Creating a dataset with no null values in genres\n",
        "genre_no_na=data[data['Genre'].isnull()==False]\n",
        "genre_no_na.reset_index(inplace=True)\n",
        "genre_no_na.drop('index',axis=1,inplace=True)\n",
        "\n",
        "\n",
        "# let's get the unique genres\n",
        "genres=[]\n",
        "for i in range(len(genre_no_na)):\n",
        "    if ',' not in genre_no_na.loc[i, 'Genre']:\n",
        "        genres.append(genre_no_na.loc[i, 'Genre'])\n",
        "    \n",
        "    else:\n",
        "        genre = genre_no_na.loc[i, 'Genre'].split(',')\n",
        "        for ii in genre:\n",
        "            genres.append(ii)\n",
        "\n",
        "            \n",
        "# List of genres by removing spaces in front of string\n",
        "genres_upd=[]\n",
        "for i in range(len(genres)):\n",
        "    for j in genres[i].split():\n",
        "        genres_upd.append(j)"
      ],
      "id": "da216f97",
      "execution_count": 106,
      "outputs": []
    },
    {
      "cell_type": "code",
      "metadata": {
        "id": "209c8d33"
      },
      "source": [
        "# replacing the null values in Tags by genres\n",
        "data.loc[data['Tags'].isnull(), 'Tags'] = data.loc[data['Tags'].isnull(), 'Genre']\n",
        "data.dropna(subset=['Tags'],axis=0,inplace=True)"
      ],
      "id": "209c8d33",
      "execution_count": 107,
      "outputs": []
    },
    {
      "cell_type": "code",
      "metadata": {
        "colab": {
          "base_uri": "https://localhost:8080/"
        },
        "id": "137ba20e",
        "outputId": "0d07194a-e932-4569-cf0c-32e6c403a6e3"
      },
      "source": [
        "data.isnull().sum()"
      ],
      "id": "137ba20e",
      "execution_count": 108,
      "outputs": [
        {
          "output_type": "execute_result",
          "data": {
            "text/plain": [
              "Title           0\n",
              "Genre        1698\n",
              "Tags            0\n",
              "Languages    1923\n",
              "Director     4694\n",
              "Writer       4316\n",
              "Actors       1913\n",
              "Summary         9\n",
              "dtype: int64"
            ]
          },
          "metadata": {
            "tags": []
          },
          "execution_count": 108
        }
      ]
    },
    {
      "cell_type": "code",
      "metadata": {
        "colab": {
          "base_uri": "https://localhost:8080/",
          "height": 385
        },
        "id": "5e5414f5",
        "outputId": "538bf19e-e13e-4a3f-87ac-3bd855ebfcaf"
      },
      "source": [
        "# Checking null values via heatmap\n",
        "plt.figure(figsize=(8,5))\n",
        "sns.heatmap(data.isnull(), yticklabels=False, cmap='crest')"
      ],
      "id": "5e5414f5",
      "execution_count": 109,
      "outputs": [
        {
          "output_type": "execute_result",
          "data": {
            "text/plain": [
              "<matplotlib.axes._subplots.AxesSubplot at 0x7f6ad117cc90>"
            ]
          },
          "metadata": {
            "tags": []
          },
          "execution_count": 109
        },
        {
          "output_type": "display_data",
          "data": {
            "image/png": "[encoded data removed]",
            "text/plain": [
              "<Figure size 576x360 with 2 Axes>"
            ]
          },
          "metadata": {
            "tags": [],
            "needs_background": "light"
          }
        }
      ]
    },
    {
      "cell_type": "markdown",
      "metadata": {
        "id": "vge0ef_UnmL9"
      },
      "source": [
        "<b>Conclusion:</b>\n",
        "The dark grids in the above plot shows that some of the movies dont have the names of the Directors, Writers and Actors. We will remove those values corresponding to Directors and Writers, and substitute the Nan values of Actors as 'Unknown Actors' "
      ],
      "id": "vge0ef_UnmL9"
    },
    {
      "cell_type": "code",
      "metadata": {
        "colab": {
          "base_uri": "https://localhost:8080/"
        },
        "id": "d1c19a6f",
        "outputId": "a9b209c9-dcfd-420f-c653-25d9f78fb541"
      },
      "source": [
        "# Dropping Nan values:\n",
        "data.dropna(subset=['Director','Writer'],axis=0,inplace=True)\n",
        "# Checking number of null values\n",
        "data.isnull().sum()"
      ],
      "id": "d1c19a6f",
      "execution_count": 110,
      "outputs": [
        {
          "output_type": "execute_result",
          "data": {
            "text/plain": [
              "Title          0\n",
              "Genre         29\n",
              "Tags           0\n",
              "Languages    103\n",
              "Director       0\n",
              "Writer         0\n",
              "Actors        87\n",
              "Summary        6\n",
              "dtype: int64"
            ]
          },
          "metadata": {
            "tags": []
          },
          "execution_count": 110
        }
      ]
    },
    {
      "cell_type": "code",
      "metadata": {
        "colab": {
          "base_uri": "https://localhost:8080/"
        },
        "id": "997b6e7e",
        "outputId": "020e6aa3-47b7-4cf1-e20e-83e6ce472466"
      },
      "source": [
        "# Info of our dataset\n",
        "data.info()"
      ],
      "id": "997b6e7e",
      "execution_count": 111,
      "outputs": [
        {
          "output_type": "stream",
          "text": [
            "<class 'pandas.core.frame.DataFrame'>\n",
            "Int64Index: 9912 entries, 0 to 15273\n",
            "Data columns (total 8 columns):\n",
            " #   Column     Non-Null Count  Dtype \n",
            "---  ------     --------------  ----- \n",
            " 0   Title      9912 non-null   object\n",
            " 1   Genre      9883 non-null   object\n",
            " 2   Tags       9912 non-null   object\n",
            " 3   Languages  9809 non-null   object\n",
            " 4   Director   9912 non-null   object\n",
            " 5   Writer     9912 non-null   object\n",
            " 6   Actors     9825 non-null   object\n",
            " 7   Summary    9906 non-null   object\n",
            "dtypes: object(8)\n",
            "memory usage: 696.9+ KB\n"
          ],
          "name": "stdout"
        }
      ]
    },
    {
      "cell_type": "markdown",
      "metadata": {
        "id": "EXasYoIgoJHH"
      },
      "source": [
        "## <b> Substituting None values in 'Genre' by values in 'Tags':</b>\n",
        "* Removing tokens in tags column that does not match with the values in the genres list we created before\n",
        "* Preprocessing the tags column\n",
        "* Using Lemmatization to convert the tokens in Tags into their base form"
      ],
      "id": "EXasYoIgoJHH"
    },
    {
      "cell_type": "code",
      "metadata": {
        "id": "3fab6f9e"
      },
      "source": [
        "# Importing nltk libraries\n",
        "import string\n",
        "import nltk\n",
        "import re\n",
        "from nltk.corpus import stopwords\n",
        "from nltk.stem import WordNetLemmatizer\n",
        "from textblob import TextBlob"
      ],
      "id": "3fab6f9e",
      "execution_count": 112,
      "outputs": []
    },
    {
      "cell_type": "code",
      "metadata": {
        "colab": {
          "base_uri": "https://localhost:8080/"
        },
        "id": "LeUQvrB3fFah",
        "outputId": "4b941404-2a37-4ddb-ff3b-0af17dd18da3"
      },
      "source": [
        "# downloading Stopwords\n",
        "nltk.download('stopwords')"
      ],
      "id": "LeUQvrB3fFah",
      "execution_count": 113,
      "outputs": [
        {
          "output_type": "stream",
          "text": [
            "[nltk_data] Downloading package stopwords to /root/nltk_data...\n",
            "[nltk_data]   Package stopwords is already up-to-date!\n"
          ],
          "name": "stdout"
        },
        {
          "output_type": "execute_result",
          "data": {
            "text/plain": [
              "True"
            ]
          },
          "metadata": {
            "tags": []
          },
          "execution_count": 113
        }
      ]
    },
    {
      "cell_type": "code",
      "metadata": {
        "id": "051b1def"
      },
      "source": [
        "# Adding the word TV to stopwords\n",
        "stop = stopwords.words(\"english\")\n",
        "stop.append(\"TV\")"
      ],
      "id": "051b1def",
      "execution_count": 114,
      "outputs": []
    },
    {
      "cell_type": "code",
      "metadata": {
        "id": "b69df19b"
      },
      "source": [
        "# Preprocessing of our 'Tags' feature\n",
        "# Creating a function that can process the tags column\n",
        "lm = WordNetLemmatizer()\n",
        "def word_lemmas(tags):\n",
        "    tags=re.sub(\"[^a-zA-Z]\",' ',tags)\n",
        "    clean= ' '.join([lm.lemmatize(word) for word in tags.split() if word not in stop])\n",
        "    text_blob_object = TextBlob(clean)\n",
        "    b = [text_blob_object.words[i].singularize() for i in range(len(clean.split()))]\n",
        "    return ' '.join(b)"
      ],
      "id": "b69df19b",
      "execution_count": 115,
      "outputs": []
    },
    {
      "cell_type": "code",
      "metadata": {
        "colab": {
          "base_uri": "https://localhost:8080/"
        },
        "id": "-CvITMgifQoP",
        "outputId": "674945d4-9510-4648-e775-da29ca2b67f9"
      },
      "source": [
        "# Downloading wordnet\n",
        "nltk.download('wordnet')"
      ],
      "id": "-CvITMgifQoP",
      "execution_count": 116,
      "outputs": [
        {
          "output_type": "stream",
          "text": [
            "[nltk_data] Downloading package wordnet to /root/nltk_data...\n",
            "[nltk_data]   Package wordnet is already up-to-date!\n"
          ],
          "name": "stdout"
        },
        {
          "output_type": "execute_result",
          "data": {
            "text/plain": [
              "True"
            ]
          },
          "metadata": {
            "tags": []
          },
          "execution_count": 116
        }
      ]
    },
    {
      "cell_type": "code",
      "metadata": {
        "colab": {
          "base_uri": "https://localhost:8080/"
        },
        "id": "AP25cbkzfVbl",
        "outputId": "e90444bc-e161-41e7-862f-69c4bcf126fa"
      },
      "source": [
        "# Downloading punkt\n",
        "nltk.download('punkt')"
      ],
      "id": "AP25cbkzfVbl",
      "execution_count": 117,
      "outputs": [
        {
          "output_type": "stream",
          "text": [
            "[nltk_data] Downloading package punkt to /root/nltk_data...\n",
            "[nltk_data]   Package punkt is already up-to-date!\n"
          ],
          "name": "stdout"
        },
        {
          "output_type": "execute_result",
          "data": {
            "text/plain": [
              "True"
            ]
          },
          "metadata": {
            "tags": []
          },
          "execution_count": 117
        }
      ]
    },
    {
      "cell_type": "code",
      "metadata": {
        "id": "bd362681"
      },
      "source": [
        "# Applying the function to our Tags column\n",
        "data['Tags_cleaned']=data['Tags'].apply(word_lemmas)"
      ],
      "id": "bd362681",
      "execution_count": 118,
      "outputs": []
    },
    {
      "cell_type": "code",
      "metadata": {
        "id": "d685f319"
      },
      "source": [
        "# Reseting index\n",
        "data.reset_index(inplace=True)\n",
        "data.drop('index',axis=1,inplace=True)"
      ],
      "id": "d685f319",
      "execution_count": 119,
      "outputs": []
    },
    {
      "cell_type": "code",
      "metadata": {
        "colab": {
          "base_uri": "https://localhost:8080/",
          "height": 351
        },
        "id": "bb105520",
        "outputId": "0b8f45d7-9e1c-49de-f6b5-a085e17c5b8f"
      },
      "source": [
        "# Updated Dataset\n",
        "data.head(3)"
      ],
      "id": "bb105520",
      "execution_count": 120,
      "outputs": [
        {
          "output_type": "execute_result",
          "data": {
            "text/html": [
              "<div>\n",
              "<style scoped>\n",
              "    .dataframe tbody tr th:only-of-type {\n",
              "        vertical-align: middle;\n",
              "    }\n",
              "\n",
              "    .dataframe tbody tr th {\n",
              "        vertical-align: top;\n",
              "    }\n",
              "\n",
              "    .dataframe thead th {\n",
              "        text-align: right;\n",
              "    }\n",
              "</style>\n",
              "<table border=\"1\" class=\"dataframe\">\n",
              "  <thead>\n",
              "    <tr style=\"text-align: right;\">\n",
              "      <th></th>\n",
              "      <th>Title</th>\n",
              "      <th>Genre</th>\n",
              "      <th>Tags</th>\n",
              "      <th>Languages</th>\n",
              "      <th>Director</th>\n",
              "      <th>Writer</th>\n",
              "      <th>Actors</th>\n",
              "      <th>Summary</th>\n",
              "      <th>Tags_cleaned</th>\n",
              "    </tr>\n",
              "  </thead>\n",
              "  <tbody>\n",
              "    <tr>\n",
              "      <th>0</th>\n",
              "      <td>Lets Fight Ghost</td>\n",
              "      <td>Crime, Drama, Fantasy, Horror, Romance</td>\n",
              "      <td>Comedy Programmes,Romantic TV Comedies,Horror Programmes,Thai TV Programmes</td>\n",
              "      <td>Swedish, Spanish</td>\n",
              "      <td>Tomas Alfredson</td>\n",
              "      <td>John Ajvide Lindqvist</td>\n",
              "      <td>Kåre Hedebrant, Per Ragnar, Lina Leandersson, Henrik Dahl</td>\n",
              "      <td>A med student with a supernatural gift tries to cash in on his abilities by facing off against g...</td>\n",
              "      <td>Comedy Programme Romantic Comedy Horror Programme Thai Programme</td>\n",
              "    </tr>\n",
              "    <tr>\n",
              "      <th>1</th>\n",
              "      <td>HOW TO BUILD A GIRL</td>\n",
              "      <td>Comedy</td>\n",
              "      <td>Dramas,Comedies,Films Based on Books,British</td>\n",
              "      <td>English</td>\n",
              "      <td>Coky Giedroyc</td>\n",
              "      <td>Caitlin Moran</td>\n",
              "      <td>Paddy Considine, Cleo, Beanie Feldstein, Dónal Finn</td>\n",
              "      <td>When nerdy Johanna moves to London, things get out of hand when she reinvents herself as a bad-m...</td>\n",
              "      <td>Drama Comedy Film Based Book British</td>\n",
              "    </tr>\n",
              "    <tr>\n",
              "      <th>2</th>\n",
              "      <td>Centigrade</td>\n",
              "      <td>Drama, Thriller</td>\n",
              "      <td>Thrillers</td>\n",
              "      <td>English</td>\n",
              "      <td>Brendan Walsh</td>\n",
              "      <td>Brendan Walsh, Daley Nixon</td>\n",
              "      <td>Genesis Rodriguez, Vincent Piazza</td>\n",
              "      <td>Trapped in a frozen car during a blizzard, a pregnant woman and her husband fight to survive whi...</td>\n",
              "      <td>Thriller</td>\n",
              "    </tr>\n",
              "  </tbody>\n",
              "</table>\n",
              "</div>"
            ],
            "text/plain": [
              "                 Title                                   Genre  \\\n",
              "0     Lets Fight Ghost  Crime, Drama, Fantasy, Horror, Romance   \n",
              "1  HOW TO BUILD A GIRL                                  Comedy   \n",
              "2           Centigrade                         Drama, Thriller   \n",
              "\n",
              "                                                                          Tags  \\\n",
              "0  Comedy Programmes,Romantic TV Comedies,Horror Programmes,Thai TV Programmes   \n",
              "1                                 Dramas,Comedies,Films Based on Books,British   \n",
              "2                                                                    Thrillers   \n",
              "\n",
              "          Languages         Director                      Writer  \\\n",
              "0  Swedish, Spanish  Tomas Alfredson       John Ajvide Lindqvist   \n",
              "1           English    Coky Giedroyc               Caitlin Moran   \n",
              "2           English    Brendan Walsh  Brendan Walsh, Daley Nixon   \n",
              "\n",
              "                                                      Actors  \\\n",
              "0  Kåre Hedebrant, Per Ragnar, Lina Leandersson, Henrik Dahl   \n",
              "1        Paddy Considine, Cleo, Beanie Feldstein, Dónal Finn   \n",
              "2                          Genesis Rodriguez, Vincent Piazza   \n",
              "\n",
              "                                                                                               Summary  \\\n",
              "0  A med student with a supernatural gift tries to cash in on his abilities by facing off against g...   \n",
              "1  When nerdy Johanna moves to London, things get out of hand when she reinvents herself as a bad-m...   \n",
              "2  Trapped in a frozen car during a blizzard, a pregnant woman and her husband fight to survive whi...   \n",
              "\n",
              "                                                       Tags_cleaned  \n",
              "0  Comedy Programme Romantic Comedy Horror Programme Thai Programme  \n",
              "1                              Drama Comedy Film Based Book British  \n",
              "2                                                          Thriller  "
            ]
          },
          "metadata": {
            "tags": []
          },
          "execution_count": 120
        }
      ]
    },
    {
      "cell_type": "code",
      "metadata": {
        "id": "7b384c92"
      },
      "source": [
        "# Storing genres in a separate dataset\n",
        "# Only using those tokens in 'Tags' that are in the genres list we created before\n",
        "\n",
        "upd_genre_df=pd.DataFrame(columns=['Upd_genres'])\n",
        "for i in range(len(data)):\n",
        "    genre_tags=[]\n",
        "    if ' ' not in data.loc[i,'Tags_cleaned']:\n",
        "        tag = data.loc[i,'Tags_cleaned']\n",
        "        if tag not in set(genres_upd):\n",
        "            genre_tags.append(tag)\n",
        "        else:\n",
        "            idx=genres_upd.index(tag)\n",
        "            genre_tags.append(genres_upd[idx])\n",
        "            \n",
        "    else:\n",
        "        tag = data.loc[i,'Tags_cleaned'].split()\n",
        "        for ii in tag:\n",
        "            if ii in genres_upd:\n",
        "                idx=genres_upd.index(ii)\n",
        "                genre_tags.append(genres_upd[idx])\n",
        "                \n",
        "    upd_genre_df.loc[i,'Upd_genres']=set(genre_tags)"
      ],
      "id": "7b384c92",
      "execution_count": 121,
      "outputs": []
    },
    {
      "cell_type": "code",
      "metadata": {
        "colab": {
          "base_uri": "https://localhost:8080/",
          "height": 205
        },
        "id": "7eee10a3",
        "outputId": "073bfd8e-0b46-4009-dd44-1338bde1e7d7"
      },
      "source": [
        "# Our genres dataset\n",
        "df1=upd_genre_df.copy()\n",
        "df1['Upd_genres']=df1['Upd_genres'].apply(lambda x: \",\".join(x))\n",
        "df1.head()"
      ],
      "id": "7eee10a3",
      "execution_count": 122,
      "outputs": [
        {
          "output_type": "execute_result",
          "data": {
            "text/html": [
              "<div>\n",
              "<style scoped>\n",
              "    .dataframe tbody tr th:only-of-type {\n",
              "        vertical-align: middle;\n",
              "    }\n",
              "\n",
              "    .dataframe tbody tr th {\n",
              "        vertical-align: top;\n",
              "    }\n",
              "\n",
              "    .dataframe thead th {\n",
              "        text-align: right;\n",
              "    }\n",
              "</style>\n",
              "<table border=\"1\" class=\"dataframe\">\n",
              "  <thead>\n",
              "    <tr style=\"text-align: right;\">\n",
              "      <th></th>\n",
              "      <th>Upd_genres</th>\n",
              "    </tr>\n",
              "  </thead>\n",
              "  <tbody>\n",
              "    <tr>\n",
              "      <th>0</th>\n",
              "      <td>Horror,Comedy</td>\n",
              "    </tr>\n",
              "    <tr>\n",
              "      <th>1</th>\n",
              "      <td>Drama,Comedy</td>\n",
              "    </tr>\n",
              "    <tr>\n",
              "      <th>2</th>\n",
              "      <td>Thriller</td>\n",
              "    </tr>\n",
              "    <tr>\n",
              "      <th>3</th>\n",
              "      <td>Comedy</td>\n",
              "    </tr>\n",
              "    <tr>\n",
              "      <th>4</th>\n",
              "      <td>Drama</td>\n",
              "    </tr>\n",
              "  </tbody>\n",
              "</table>\n",
              "</div>"
            ],
            "text/plain": [
              "      Upd_genres\n",
              "0  Horror,Comedy\n",
              "1   Drama,Comedy\n",
              "2       Thriller\n",
              "3         Comedy\n",
              "4          Drama"
            ]
          },
          "metadata": {
            "tags": []
          },
          "execution_count": 122
        }
      ]
    },
    {
      "cell_type": "markdown",
      "metadata": {
        "id": "1f69eb9f"
      },
      "source": [
        "## <b>Working with the cast and crew features:</b>\n",
        "* Separated the Actors, Directors and Writers and stored them in a separate dataset\n",
        "* Need to convert the names of cast and crew members in a single word by removing spaces such that they get treated as a single word while using Feature Vectorization in the later stages\n",
        "* Replacing spaces by underscore\n",
        "* For more than one cast and crew member for a film, we need to remove spaces before starting of their name"
      ],
      "id": "1f69eb9f"
    },
    {
      "cell_type": "code",
      "metadata": {
        "colab": {
          "base_uri": "https://localhost:8080/",
          "height": 240
        },
        "id": "78b4aed4",
        "outputId": "2f2fdd0f-2caf-4d67-85a5-bb18c0a586af"
      },
      "source": [
        "# Creating a cast-crew dataset\n",
        "cast_crew_df=data[['Director','Writer','Actors']]\n",
        "cast_crew_df.head()"
      ],
      "id": "78b4aed4",
      "execution_count": 123,
      "outputs": [
        {
          "output_type": "execute_result",
          "data": {
            "text/html": [
              "<div>\n",
              "<style scoped>\n",
              "    .dataframe tbody tr th:only-of-type {\n",
              "        vertical-align: middle;\n",
              "    }\n",
              "\n",
              "    .dataframe tbody tr th {\n",
              "        vertical-align: top;\n",
              "    }\n",
              "\n",
              "    .dataframe thead th {\n",
              "        text-align: right;\n",
              "    }\n",
              "</style>\n",
              "<table border=\"1\" class=\"dataframe\">\n",
              "  <thead>\n",
              "    <tr style=\"text-align: right;\">\n",
              "      <th></th>\n",
              "      <th>Director</th>\n",
              "      <th>Writer</th>\n",
              "      <th>Actors</th>\n",
              "    </tr>\n",
              "  </thead>\n",
              "  <tbody>\n",
              "    <tr>\n",
              "      <th>0</th>\n",
              "      <td>Tomas Alfredson</td>\n",
              "      <td>John Ajvide Lindqvist</td>\n",
              "      <td>Kåre Hedebrant, Per Ragnar, Lina Leandersson, Henrik Dahl</td>\n",
              "    </tr>\n",
              "    <tr>\n",
              "      <th>1</th>\n",
              "      <td>Coky Giedroyc</td>\n",
              "      <td>Caitlin Moran</td>\n",
              "      <td>Paddy Considine, Cleo, Beanie Feldstein, Dónal Finn</td>\n",
              "    </tr>\n",
              "    <tr>\n",
              "      <th>2</th>\n",
              "      <td>Brendan Walsh</td>\n",
              "      <td>Brendan Walsh, Daley Nixon</td>\n",
              "      <td>Genesis Rodriguez, Vincent Piazza</td>\n",
              "    </tr>\n",
              "    <tr>\n",
              "      <th>3</th>\n",
              "      <td>Mez Tharatorn</td>\n",
              "      <td>Pattaranad Bhiboonsawade, Thodsapon Thiptinnakorn, Mez Tharatorn</td>\n",
              "      <td>Thiti Mahayotaruk, Nadech Kugimiya, Kathaleeya McIntosh, Pimchanok Leuwisetpaiboon</td>\n",
              "    </tr>\n",
              "    <tr>\n",
              "      <th>4</th>\n",
              "      <td>Alf Sjöberg</td>\n",
              "      <td>Ivar Lo-Johansson</td>\n",
              "      <td>Ulf Palme, Ragnar Falck, Hugo Björne, Eva Dahlbeck</td>\n",
              "    </tr>\n",
              "  </tbody>\n",
              "</table>\n",
              "</div>"
            ],
            "text/plain": [
              "          Director  \\\n",
              "0  Tomas Alfredson   \n",
              "1    Coky Giedroyc   \n",
              "2    Brendan Walsh   \n",
              "3    Mez Tharatorn   \n",
              "4      Alf Sjöberg   \n",
              "\n",
              "                                                             Writer  \\\n",
              "0                                             John Ajvide Lindqvist   \n",
              "1                                                     Caitlin Moran   \n",
              "2                                        Brendan Walsh, Daley Nixon   \n",
              "3  Pattaranad Bhiboonsawade, Thodsapon Thiptinnakorn, Mez Tharatorn   \n",
              "4                                                 Ivar Lo-Johansson   \n",
              "\n",
              "                                                                               Actors  \n",
              "0                           Kåre Hedebrant, Per Ragnar, Lina Leandersson, Henrik Dahl  \n",
              "1                                 Paddy Considine, Cleo, Beanie Feldstein, Dónal Finn  \n",
              "2                                                   Genesis Rodriguez, Vincent Piazza  \n",
              "3  Thiti Mahayotaruk, Nadech Kugimiya, Kathaleeya McIntosh, Pimchanok Leuwisetpaiboon  \n",
              "4                                  Ulf Palme, Ragnar Falck, Hugo Björne, Eva Dahlbeck  "
            ]
          },
          "metadata": {
            "tags": []
          },
          "execution_count": 123
        }
      ]
    },
    {
      "cell_type": "code",
      "metadata": {
        "colab": {
          "base_uri": "https://localhost:8080/"
        },
        "id": "117c2c62",
        "outputId": "8b9ebfce-3da4-4816-d39b-63e2914ba394"
      },
      "source": [
        "# Null values\n",
        "cast_crew_df.isnull().sum()"
      ],
      "id": "117c2c62",
      "execution_count": 124,
      "outputs": [
        {
          "output_type": "execute_result",
          "data": {
            "text/plain": [
              "Director     0\n",
              "Writer       0\n",
              "Actors      87\n",
              "dtype: int64"
            ]
          },
          "metadata": {
            "tags": []
          },
          "execution_count": 124
        }
      ]
    },
    {
      "cell_type": "code",
      "metadata": {
        "id": "5eebf63f"
      },
      "source": [
        "# Substituting nan values of actors as Unknown actors\n",
        "cast_crew_df.loc[cast_crew_df['Actors'].isnull(), 'Actors'] = 'Unknown_actors'"
      ],
      "id": "5eebf63f",
      "execution_count": 125,
      "outputs": []
    },
    {
      "cell_type": "code",
      "metadata": {
        "colab": {
          "base_uri": "https://localhost:8080/",
          "height": 240
        },
        "id": "9699396f",
        "outputId": "54b24e2c-18a7-452b-b7d5-7dac42f4a2c9"
      },
      "source": [
        "cast_crew_df.head()"
      ],
      "id": "9699396f",
      "execution_count": 126,
      "outputs": [
        {
          "output_type": "execute_result",
          "data": {
            "text/html": [
              "<div>\n",
              "<style scoped>\n",
              "    .dataframe tbody tr th:only-of-type {\n",
              "        vertical-align: middle;\n",
              "    }\n",
              "\n",
              "    .dataframe tbody tr th {\n",
              "        vertical-align: top;\n",
              "    }\n",
              "\n",
              "    .dataframe thead th {\n",
              "        text-align: right;\n",
              "    }\n",
              "</style>\n",
              "<table border=\"1\" class=\"dataframe\">\n",
              "  <thead>\n",
              "    <tr style=\"text-align: right;\">\n",
              "      <th></th>\n",
              "      <th>Director</th>\n",
              "      <th>Writer</th>\n",
              "      <th>Actors</th>\n",
              "    </tr>\n",
              "  </thead>\n",
              "  <tbody>\n",
              "    <tr>\n",
              "      <th>0</th>\n",
              "      <td>Tomas Alfredson</td>\n",
              "      <td>John Ajvide Lindqvist</td>\n",
              "      <td>Kåre Hedebrant, Per Ragnar, Lina Leandersson, Henrik Dahl</td>\n",
              "    </tr>\n",
              "    <tr>\n",
              "      <th>1</th>\n",
              "      <td>Coky Giedroyc</td>\n",
              "      <td>Caitlin Moran</td>\n",
              "      <td>Paddy Considine, Cleo, Beanie Feldstein, Dónal Finn</td>\n",
              "    </tr>\n",
              "    <tr>\n",
              "      <th>2</th>\n",
              "      <td>Brendan Walsh</td>\n",
              "      <td>Brendan Walsh, Daley Nixon</td>\n",
              "      <td>Genesis Rodriguez, Vincent Piazza</td>\n",
              "    </tr>\n",
              "    <tr>\n",
              "      <th>3</th>\n",
              "      <td>Mez Tharatorn</td>\n",
              "      <td>Pattaranad Bhiboonsawade, Thodsapon Thiptinnakorn, Mez Tharatorn</td>\n",
              "      <td>Thiti Mahayotaruk, Nadech Kugimiya, Kathaleeya McIntosh, Pimchanok Leuwisetpaiboon</td>\n",
              "    </tr>\n",
              "    <tr>\n",
              "      <th>4</th>\n",
              "      <td>Alf Sjöberg</td>\n",
              "      <td>Ivar Lo-Johansson</td>\n",
              "      <td>Ulf Palme, Ragnar Falck, Hugo Björne, Eva Dahlbeck</td>\n",
              "    </tr>\n",
              "  </tbody>\n",
              "</table>\n",
              "</div>"
            ],
            "text/plain": [
              "          Director  \\\n",
              "0  Tomas Alfredson   \n",
              "1    Coky Giedroyc   \n",
              "2    Brendan Walsh   \n",
              "3    Mez Tharatorn   \n",
              "4      Alf Sjöberg   \n",
              "\n",
              "                                                             Writer  \\\n",
              "0                                             John Ajvide Lindqvist   \n",
              "1                                                     Caitlin Moran   \n",
              "2                                        Brendan Walsh, Daley Nixon   \n",
              "3  Pattaranad Bhiboonsawade, Thodsapon Thiptinnakorn, Mez Tharatorn   \n",
              "4                                                 Ivar Lo-Johansson   \n",
              "\n",
              "                                                                               Actors  \n",
              "0                           Kåre Hedebrant, Per Ragnar, Lina Leandersson, Henrik Dahl  \n",
              "1                                 Paddy Considine, Cleo, Beanie Feldstein, Dónal Finn  \n",
              "2                                                   Genesis Rodriguez, Vincent Piazza  \n",
              "3  Thiti Mahayotaruk, Nadech Kugimiya, Kathaleeya McIntosh, Pimchanok Leuwisetpaiboon  \n",
              "4                                  Ulf Palme, Ragnar Falck, Hugo Björne, Eva Dahlbeck  "
            ]
          },
          "metadata": {
            "tags": []
          },
          "execution_count": 126
        }
      ]
    },
    {
      "cell_type": "code",
      "metadata": {
        "id": "468f1745"
      },
      "source": [
        "# This for loop will remove any spaces at the starting of the names of cast and crew members\n",
        "# It will also replace spaces between names into underscores\n",
        "\n",
        "# Actors list\n",
        "actors_list=[]\n",
        "for i in range(len(cast_crew_df)):\n",
        "    cast=[]\n",
        "    if ',' in cast_crew_df.loc[i,'Actors']:\n",
        "        a=cast_crew_df.loc[i,'Actors'].split(',')\n",
        "        for ii in a:\n",
        "            store=ii.lstrip().replace(' ','_')\n",
        "            cast.append(store)\n",
        "    else:\n",
        "        try:\n",
        "            store_ = cast_crew_df.loc[i,'Actors'].replace(' ','_')\n",
        "            cast.append(store_)\n",
        "        except:\n",
        "            cast.append(cast_crew_df.loc[i,'Actors'])\n",
        "\n",
        "    actors_list.append(cast)\n",
        "    \n",
        "    \n",
        "# Creating a list for writers\n",
        "writers=[]\n",
        "for i in range(len(cast_crew_df)):\n",
        "    writers_list=[]\n",
        "    if ',' in cast_crew_df.loc[i,'Writer']:\n",
        "        a=cast_crew_df.loc[i,'Writer'].split(',')\n",
        "        for ii in a:\n",
        "            store=ii.lstrip().replace(' ','_')\n",
        "            writers_list.append(store)\n",
        "    else:\n",
        "        try:\n",
        "            store_ = cast_crew_df.loc[i,'Writer'].replace(' ','_')\n",
        "            writers_list.append(store_)\n",
        "        except:\n",
        "            writers_list.append(cast_crew_df.loc[i,'Writer'])\n",
        "\n",
        "    writers.append(writers_list)\n",
        "    \n",
        "    \n",
        "# Creating a list for Director\n",
        "directors=[]\n",
        "for i in range(len(cast_crew_df)):\n",
        "    dir_list=[]\n",
        "    if ',' in cast_crew_df.loc[i,'Director']:\n",
        "        a=cast_crew_df.loc[i,'Director'].split(',')\n",
        "        for ii in a:\n",
        "            store=ii.lstrip().replace(' ','_')\n",
        "            dir_list.append(store)\n",
        "    else:\n",
        "        try:\n",
        "            store_ = cast_crew_df.loc[i,'Director'].replace(' ','_')\n",
        "            dir_list.append(store_)\n",
        "        except:\n",
        "            dir_list.append(cast_crew_df.loc[i,'Director'])\n",
        "\n",
        "    directors.append(dir_list)"
      ],
      "id": "468f1745",
      "execution_count": 127,
      "outputs": []
    },
    {
      "cell_type": "code",
      "metadata": {
        "id": "595094fd"
      },
      "source": [
        "# Updating our dataset\n",
        "cast_crew_df['Director']=directors\n",
        "cast_crew_df['Writer']=writers\n",
        "cast_crew_df['Actors']=actors_list\n",
        "\n",
        "# Storing in string format\n",
        "cast_crew_df['Director'] = cast_crew_df['Director'].apply(lambda x: ','.join(x))\n",
        "cast_crew_df['Writer'] = cast_crew_df['Writer'].apply(lambda x: ','.join(x))\n",
        "cast_crew_df['Actors'] = cast_crew_df['Actors'].apply(lambda x: ','.join(x))"
      ],
      "id": "595094fd",
      "execution_count": 128,
      "outputs": []
    },
    {
      "cell_type": "code",
      "metadata": {
        "colab": {
          "base_uri": "https://localhost:8080/",
          "height": 225
        },
        "id": "375db8ce",
        "outputId": "8daa28d3-e193-4586-8946-2e1142fa3969"
      },
      "source": [
        "# Updated Dataset\n",
        "cast_crew_df.head()"
      ],
      "id": "375db8ce",
      "execution_count": 129,
      "outputs": [
        {
          "output_type": "execute_result",
          "data": {
            "text/html": [
              "<div>\n",
              "<style scoped>\n",
              "    .dataframe tbody tr th:only-of-type {\n",
              "        vertical-align: middle;\n",
              "    }\n",
              "\n",
              "    .dataframe tbody tr th {\n",
              "        vertical-align: top;\n",
              "    }\n",
              "\n",
              "    .dataframe thead th {\n",
              "        text-align: right;\n",
              "    }\n",
              "</style>\n",
              "<table border=\"1\" class=\"dataframe\">\n",
              "  <thead>\n",
              "    <tr style=\"text-align: right;\">\n",
              "      <th></th>\n",
              "      <th>Director</th>\n",
              "      <th>Writer</th>\n",
              "      <th>Actors</th>\n",
              "    </tr>\n",
              "  </thead>\n",
              "  <tbody>\n",
              "    <tr>\n",
              "      <th>0</th>\n",
              "      <td>Tomas_Alfredson</td>\n",
              "      <td>John_Ajvide_Lindqvist</td>\n",
              "      <td>Kåre_Hedebrant,Per_Ragnar,Lina_Leandersson,Henrik_Dahl</td>\n",
              "    </tr>\n",
              "    <tr>\n",
              "      <th>1</th>\n",
              "      <td>Coky_Giedroyc</td>\n",
              "      <td>Caitlin_Moran</td>\n",
              "      <td>Paddy_Considine,Cleo,Beanie_Feldstein,Dónal_Finn</td>\n",
              "    </tr>\n",
              "    <tr>\n",
              "      <th>2</th>\n",
              "      <td>Brendan_Walsh</td>\n",
              "      <td>Brendan_Walsh,Daley_Nixon</td>\n",
              "      <td>Genesis_Rodriguez,Vincent_Piazza</td>\n",
              "    </tr>\n",
              "    <tr>\n",
              "      <th>3</th>\n",
              "      <td>Mez_Tharatorn</td>\n",
              "      <td>Pattaranad_Bhiboonsawade,Thodsapon_Thiptinnakorn,Mez_Tharatorn</td>\n",
              "      <td>Thiti_Mahayotaruk,Nadech_Kugimiya,Kathaleeya_McIntosh,Pimchanok_Leuwisetpaiboon</td>\n",
              "    </tr>\n",
              "    <tr>\n",
              "      <th>4</th>\n",
              "      <td>Alf_Sjöberg</td>\n",
              "      <td>Ivar_Lo-Johansson</td>\n",
              "      <td>Ulf_Palme,Ragnar_Falck,Hugo_Björne,Eva_Dahlbeck</td>\n",
              "    </tr>\n",
              "  </tbody>\n",
              "</table>\n",
              "</div>"
            ],
            "text/plain": [
              "          Director  \\\n",
              "0  Tomas_Alfredson   \n",
              "1    Coky_Giedroyc   \n",
              "2    Brendan_Walsh   \n",
              "3    Mez_Tharatorn   \n",
              "4      Alf_Sjöberg   \n",
              "\n",
              "                                                           Writer  \\\n",
              "0                                           John_Ajvide_Lindqvist   \n",
              "1                                                   Caitlin_Moran   \n",
              "2                                       Brendan_Walsh,Daley_Nixon   \n",
              "3  Pattaranad_Bhiboonsawade,Thodsapon_Thiptinnakorn,Mez_Tharatorn   \n",
              "4                                               Ivar_Lo-Johansson   \n",
              "\n",
              "                                                                            Actors  \n",
              "0                           Kåre_Hedebrant,Per_Ragnar,Lina_Leandersson,Henrik_Dahl  \n",
              "1                                 Paddy_Considine,Cleo,Beanie_Feldstein,Dónal_Finn  \n",
              "2                                                 Genesis_Rodriguez,Vincent_Piazza  \n",
              "3  Thiti_Mahayotaruk,Nadech_Kugimiya,Kathaleeya_McIntosh,Pimchanok_Leuwisetpaiboon  \n",
              "4                                  Ulf_Palme,Ragnar_Falck,Hugo_Björne,Eva_Dahlbeck  "
            ]
          },
          "metadata": {
            "tags": []
          },
          "execution_count": 129
        }
      ]
    },
    {
      "cell_type": "code",
      "metadata": {
        "id": "2a0414bd"
      },
      "source": [
        "# Updating the dataset by merging genres, summary and titles of movies\n",
        "cast_crew_df['genres']=df1['Upd_genres']\n",
        "cast_crew_df['Summary']=data['Summary']\n",
        "cast_crew_df['Title']=data['Title']"
      ],
      "id": "2a0414bd",
      "execution_count": 130,
      "outputs": []
    },
    {
      "cell_type": "code",
      "metadata": {
        "colab": {
          "base_uri": "https://localhost:8080/",
          "height": 1000
        },
        "id": "a15e012c",
        "outputId": "105f0851-6d46-4703-9a58-5042cc2530a1"
      },
      "source": [
        "cast_crew_df.head()"
      ],
      "id": "a15e012c",
      "execution_count": 131,
      "outputs": [
        {
          "output_type": "execute_result",
          "data": {
            "text/html": [
              "<div>\n",
              "<style scoped>\n",
              "    .dataframe tbody tr th:only-of-type {\n",
              "        vertical-align: middle;\n",
              "    }\n",
              "\n",
              "    .dataframe tbody tr th {\n",
              "        vertical-align: top;\n",
              "    }\n",
              "\n",
              "    .dataframe thead th {\n",
              "        text-align: right;\n",
              "    }\n",
              "</style>\n",
              "<table border=\"1\" class=\"dataframe\">\n",
              "  <thead>\n",
              "    <tr style=\"text-align: right;\">\n",
              "      <th></th>\n",
              "      <th>Director</th>\n",
              "      <th>Writer</th>\n",
              "      <th>Actors</th>\n",
              "      <th>genres</th>\n",
              "      <th>Summary</th>\n",
              "      <th>Title</th>\n",
              "    </tr>\n",
              "  </thead>\n",
              "  <tbody>\n",
              "    <tr>\n",
              "      <th>0</th>\n",
              "      <td>Tomas_Alfredson</td>\n",
              "      <td>John_Ajvide_Lindqvist</td>\n",
              "      <td>Kåre_Hedebrant,Per_Ragnar,Lina_Leandersson,Henrik_Dahl</td>\n",
              "      <td>Horror,Comedy</td>\n",
              "      <td>A med student with a supernatural gift tries to cash in on his abilities by facing off against g...</td>\n",
              "      <td>Lets Fight Ghost</td>\n",
              "    </tr>\n",
              "    <tr>\n",
              "      <th>1</th>\n",
              "      <td>Coky_Giedroyc</td>\n",
              "      <td>Caitlin_Moran</td>\n",
              "      <td>Paddy_Considine,Cleo,Beanie_Feldstein,Dónal_Finn</td>\n",
              "      <td>Drama,Comedy</td>\n",
              "      <td>When nerdy Johanna moves to London, things get out of hand when she reinvents herself as a bad-m...</td>\n",
              "      <td>HOW TO BUILD A GIRL</td>\n",
              "    </tr>\n",
              "    <tr>\n",
              "      <th>2</th>\n",
              "      <td>Brendan_Walsh</td>\n",
              "      <td>Brendan_Walsh,Daley_Nixon</td>\n",
              "      <td>Genesis_Rodriguez,Vincent_Piazza</td>\n",
              "      <td>Thriller</td>\n",
              "      <td>Trapped in a frozen car during a blizzard, a pregnant woman and her husband fight to survive whi...</td>\n",
              "      <td>Centigrade</td>\n",
              "    </tr>\n",
              "    <tr>\n",
              "      <th>3</th>\n",
              "      <td>Mez_Tharatorn</td>\n",
              "      <td>Pattaranad_Bhiboonsawade,Thodsapon_Thiptinnakorn,Mez_Tharatorn</td>\n",
              "      <td>Thiti_Mahayotaruk,Nadech_Kugimiya,Kathaleeya_McIntosh,Pimchanok_Leuwisetpaiboon</td>\n",
              "      <td>Comedy</td>\n",
              "      <td>After her ex-boyfriend cons her out of a large sum of money, a former bank employee tricks a sca...</td>\n",
              "      <td>The Con-Heartist</td>\n",
              "    </tr>\n",
              "    <tr>\n",
              "      <th>4</th>\n",
              "      <td>Alf_Sjöberg</td>\n",
              "      <td>Ivar_Lo-Johansson</td>\n",
              "      <td>Ulf_Palme,Ragnar_Falck,Hugo_Björne,Eva_Dahlbeck</td>\n",
              "      <td>Drama</td>\n",
              "      <td>An unhappily married farm worker struggling to care for her children reflects on her lost youth ...</td>\n",
              "      <td>Only a Mother</td>\n",
              "    </tr>\n",
              "  </tbody>\n",
              "</table>\n",
              "</div>"
            ],
            "text/plain": [
              "          Director  \\\n",
              "0  Tomas_Alfredson   \n",
              "1    Coky_Giedroyc   \n",
              "2    Brendan_Walsh   \n",
              "3    Mez_Tharatorn   \n",
              "4      Alf_Sjöberg   \n",
              "\n",
              "                                                           Writer  \\\n",
              "0                                           John_Ajvide_Lindqvist   \n",
              "1                                                   Caitlin_Moran   \n",
              "2                                       Brendan_Walsh,Daley_Nixon   \n",
              "3  Pattaranad_Bhiboonsawade,Thodsapon_Thiptinnakorn,Mez_Tharatorn   \n",
              "4                                               Ivar_Lo-Johansson   \n",
              "\n",
              "                                                                            Actors  \\\n",
              "0                           Kåre_Hedebrant,Per_Ragnar,Lina_Leandersson,Henrik_Dahl   \n",
              "1                                 Paddy_Considine,Cleo,Beanie_Feldstein,Dónal_Finn   \n",
              "2                                                 Genesis_Rodriguez,Vincent_Piazza   \n",
              "3  Thiti_Mahayotaruk,Nadech_Kugimiya,Kathaleeya_McIntosh,Pimchanok_Leuwisetpaiboon   \n",
              "4                                  Ulf_Palme,Ragnar_Falck,Hugo_Björne,Eva_Dahlbeck   \n",
              "\n",
              "          genres  \\\n",
              "0  Horror,Comedy   \n",
              "1   Drama,Comedy   \n",
              "2       Thriller   \n",
              "3         Comedy   \n",
              "4          Drama   \n",
              "\n",
              "                                                                                               Summary  \\\n",
              "0  A med student with a supernatural gift tries to cash in on his abilities by facing off against g...   \n",
              "1  When nerdy Johanna moves to London, things get out of hand when she reinvents herself as a bad-m...   \n",
              "2  Trapped in a frozen car during a blizzard, a pregnant woman and her husband fight to survive whi...   \n",
              "3  After her ex-boyfriend cons her out of a large sum of money, a former bank employee tricks a sca...   \n",
              "4  An unhappily married farm worker struggling to care for her children reflects on her lost youth ...   \n",
              "\n",
              "                 Title  \n",
              "0     Lets Fight Ghost  \n",
              "1  HOW TO BUILD A GIRL  \n",
              "2           Centigrade  \n",
              "3     The Con-Heartist  \n",
              "4        Only a Mother  "
            ]
          },
          "metadata": {
            "tags": []
          },
          "execution_count": 131
        }
      ]
    },
    {
      "cell_type": "code",
      "metadata": {
        "colab": {
          "base_uri": "https://localhost:8080/"
        },
        "id": "e38cda06",
        "outputId": "4dcc5a2c-30f5-41de-ea5a-815a67d8bccf"
      },
      "source": [
        "# Number of duplicate records\n",
        "cast_crew_df.duplicated(subset=['Title']).sum()"
      ],
      "id": "e38cda06",
      "execution_count": 132,
      "outputs": [
        {
          "output_type": "execute_result",
          "data": {
            "text/plain": [
              "234"
            ]
          },
          "metadata": {
            "tags": []
          },
          "execution_count": 132
        }
      ]
    },
    {
      "cell_type": "code",
      "metadata": {
        "id": "71e0022b"
      },
      "source": [
        "# Removing duplicate records\n",
        "cast_crew_df.drop_duplicates(subset=['Title'],keep='first',inplace=True)"
      ],
      "id": "71e0022b",
      "execution_count": 133,
      "outputs": []
    },
    {
      "cell_type": "code",
      "metadata": {
        "colab": {
          "base_uri": "https://localhost:8080/"
        },
        "id": "276ff8a9",
        "outputId": "43cbe862-3da2-471a-bad3-d60ba2051444"
      },
      "source": [
        "# Info after removing duplicate records\n",
        "cast_crew_df.info()"
      ],
      "id": "276ff8a9",
      "execution_count": 134,
      "outputs": [
        {
          "output_type": "stream",
          "text": [
            "<class 'pandas.core.frame.DataFrame'>\n",
            "Int64Index: 9678 entries, 0 to 9911\n",
            "Data columns (total 6 columns):\n",
            " #   Column    Non-Null Count  Dtype \n",
            "---  ------    --------------  ----- \n",
            " 0   Director  9678 non-null   object\n",
            " 1   Writer    9678 non-null   object\n",
            " 2   Actors    9678 non-null   object\n",
            " 3   genres    9678 non-null   object\n",
            " 4   Summary   9672 non-null   object\n",
            " 5   Title     9678 non-null   object\n",
            "dtypes: object(6)\n",
            "memory usage: 529.3+ KB\n"
          ],
          "name": "stdout"
        }
      ]
    },
    {
      "cell_type": "code",
      "metadata": {
        "colab": {
          "base_uri": "https://localhost:8080/"
        },
        "id": "e6516580",
        "outputId": "5024fadd-119e-4f45-c6d7-b3e1e4cdd3cc"
      },
      "source": [
        "# Checking for null values\n",
        "cast_crew_df.isnull().sum()"
      ],
      "id": "e6516580",
      "execution_count": 135,
      "outputs": [
        {
          "output_type": "execute_result",
          "data": {
            "text/plain": [
              "Director    0\n",
              "Writer      0\n",
              "Actors      0\n",
              "genres      0\n",
              "Summary     6\n",
              "Title       0\n",
              "dtype: int64"
            ]
          },
          "metadata": {
            "tags": []
          },
          "execution_count": 135
        }
      ]
    },
    {
      "cell_type": "code",
      "metadata": {
        "colab": {
          "base_uri": "https://localhost:8080/",
          "height": 429
        },
        "id": "e684e280",
        "outputId": "eabf6c93-89f6-4d59-ac8e-7a7f3f5637f5"
      },
      "source": [
        "# Columns where we have null summaries\n",
        "cast_crew_df[cast_crew_df['Summary'].isnull()==True]"
      ],
      "id": "e684e280",
      "execution_count": 136,
      "outputs": [
        {
          "output_type": "execute_result",
          "data": {
            "text/html": [
              "<div>\n",
              "<style scoped>\n",
              "    .dataframe tbody tr th:only-of-type {\n",
              "        vertical-align: middle;\n",
              "    }\n",
              "\n",
              "    .dataframe tbody tr th {\n",
              "        vertical-align: top;\n",
              "    }\n",
              "\n",
              "    .dataframe thead th {\n",
              "        text-align: right;\n",
              "    }\n",
              "</style>\n",
              "<table border=\"1\" class=\"dataframe\">\n",
              "  <thead>\n",
              "    <tr style=\"text-align: right;\">\n",
              "      <th></th>\n",
              "      <th>Director</th>\n",
              "      <th>Writer</th>\n",
              "      <th>Actors</th>\n",
              "      <th>genres</th>\n",
              "      <th>Summary</th>\n",
              "      <th>Title</th>\n",
              "    </tr>\n",
              "  </thead>\n",
              "  <tbody>\n",
              "    <tr>\n",
              "      <th>588</th>\n",
              "      <td>Tommy_Wiseau</td>\n",
              "      <td>Tommy_Wiseau</td>\n",
              "      <td>Philip_Haldiman,Tommy_Wiseau,Juliette_Danielle,Greg_Sestero</td>\n",
              "      <td>Drama,Comedy</td>\n",
              "      <td>NaN</td>\n",
              "      <td>The Room</td>\n",
              "    </tr>\n",
              "    <tr>\n",
              "      <th>634</th>\n",
              "      <td>Emilio_Graziani-Walter</td>\n",
              "      <td>Emilio_Graziani-Walter</td>\n",
              "      <td>Tilde_Teldi,Emilio_Graziani-Walter</td>\n",
              "      <td>Drama</td>\n",
              "      <td>NaN</td>\n",
              "      <td>Primo amore</td>\n",
              "    </tr>\n",
              "    <tr>\n",
              "      <th>635</th>\n",
              "      <td>Emanuele_Crialese</td>\n",
              "      <td>Emanuele_Crialese</td>\n",
              "      <td>Valeria_Golino,Francesco_Casisa,Vincenzo_Amato,Veronica_D'Agostino</td>\n",
              "      <td>Drama,Comedy</td>\n",
              "      <td>NaN</td>\n",
              "      <td>Respiro</td>\n",
              "    </tr>\n",
              "    <tr>\n",
              "      <th>686</th>\n",
              "      <td>Mike_Figgis</td>\n",
              "      <td>Michael_Cristofer,Eric_Roth</td>\n",
              "      <td>Lena_Olin,Tom_Irwin,Anne_Bancroft,Richard_Gere</td>\n",
              "      <td>Drama</td>\n",
              "      <td>NaN</td>\n",
              "      <td>Mr. Jones</td>\n",
              "    </tr>\n",
              "    <tr>\n",
              "      <th>688</th>\n",
              "      <td>Jacques_Audiard</td>\n",
              "      <td>Patrick_DeWitt,Thomas_Bidegain,Jacques_Audiard</td>\n",
              "      <td>Joaquin_Phoenix,John_C._Reilly,Jake_Gyllenhaal,Riz_Ahmed</td>\n",
              "      <td>Drama,Western,Crime</td>\n",
              "      <td>NaN</td>\n",
              "      <td>The Sisters Brothers</td>\n",
              "    </tr>\n",
              "    <tr>\n",
              "      <th>691</th>\n",
              "      <td>Terry_Gilliam</td>\n",
              "      <td>Terry_Gilliam,Miguel_de_Cervantes_y_Saavedra,Tony_Grisoni</td>\n",
              "      <td>Ismael_Fritschi,Adam_Driver,Juan_López-Tagle,José_Luis_Ferrer</td>\n",
              "      <td>Drama,Adventure,Comedy,Action</td>\n",
              "      <td>NaN</td>\n",
              "      <td>The Man Who Killed Don Quixote</td>\n",
              "    </tr>\n",
              "  </tbody>\n",
              "</table>\n",
              "</div>"
            ],
            "text/plain": [
              "                   Director  \\\n",
              "588            Tommy_Wiseau   \n",
              "634  Emilio_Graziani-Walter   \n",
              "635       Emanuele_Crialese   \n",
              "686             Mike_Figgis   \n",
              "688         Jacques_Audiard   \n",
              "691           Terry_Gilliam   \n",
              "\n",
              "                                                        Writer  \\\n",
              "588                                               Tommy_Wiseau   \n",
              "634                                     Emilio_Graziani-Walter   \n",
              "635                                          Emanuele_Crialese   \n",
              "686                                Michael_Cristofer,Eric_Roth   \n",
              "688             Patrick_DeWitt,Thomas_Bidegain,Jacques_Audiard   \n",
              "691  Terry_Gilliam,Miguel_de_Cervantes_y_Saavedra,Tony_Grisoni   \n",
              "\n",
              "                                                                 Actors  \\\n",
              "588         Philip_Haldiman,Tommy_Wiseau,Juliette_Danielle,Greg_Sestero   \n",
              "634                                  Tilde_Teldi,Emilio_Graziani-Walter   \n",
              "635  Valeria_Golino,Francesco_Casisa,Vincenzo_Amato,Veronica_D'Agostino   \n",
              "686                      Lena_Olin,Tom_Irwin,Anne_Bancroft,Richard_Gere   \n",
              "688            Joaquin_Phoenix,John_C._Reilly,Jake_Gyllenhaal,Riz_Ahmed   \n",
              "691       Ismael_Fritschi,Adam_Driver,Juan_López-Tagle,José_Luis_Ferrer   \n",
              "\n",
              "                            genres Summary                           Title  \n",
              "588                   Drama,Comedy     NaN                        The Room  \n",
              "634                          Drama     NaN                     Primo amore  \n",
              "635                   Drama,Comedy     NaN                         Respiro  \n",
              "686                          Drama     NaN                       Mr. Jones  \n",
              "688            Drama,Western,Crime     NaN            The Sisters Brothers  \n",
              "691  Drama,Adventure,Comedy,Action     NaN  The Man Who Killed Don Quixote  "
            ]
          },
          "metadata": {
            "tags": []
          },
          "execution_count": 136
        }
      ]
    },
    {
      "cell_type": "code",
      "metadata": {
        "id": "bf9922cf"
      },
      "source": [
        "# Removing Nan summaries\n",
        "cast_crew_df=cast_crew_df[cast_crew_df['Summary'].isnull()==False]"
      ],
      "id": "bf9922cf",
      "execution_count": 137,
      "outputs": []
    },
    {
      "cell_type": "code",
      "metadata": {
        "colab": {
          "base_uri": "https://localhost:8080/"
        },
        "id": "2846d9ff",
        "outputId": "7a554714-4bd8-47ff-b2d8-ab2f64aa2280"
      },
      "source": [
        "cast_crew_df.isnull().sum()"
      ],
      "id": "2846d9ff",
      "execution_count": 138,
      "outputs": [
        {
          "output_type": "execute_result",
          "data": {
            "text/plain": [
              "Director    0\n",
              "Writer      0\n",
              "Actors      0\n",
              "genres      0\n",
              "Summary     0\n",
              "Title       0\n",
              "dtype: int64"
            ]
          },
          "metadata": {
            "tags": []
          },
          "execution_count": 138
        }
      ]
    },
    {
      "cell_type": "markdown",
      "metadata": {
        "id": "wHrpsQQ_q2AT"
      },
      "source": [
        "## <b> Pre-processing our 'Summary' feature:</b>\n",
        "* Removing Stopwords\n",
        "* Removing punctuations and special characters\n",
        "* Lemmatization of tokens"
      ],
      "id": "wHrpsQQ_q2AT"
    },
    {
      "cell_type": "code",
      "metadata": {
        "id": "961df14e"
      },
      "source": [
        "def clean_summary(summary):\n",
        "    summary=re.sub(\"[^a-zA-Z]\",' ',summary)\n",
        "    summary = summary.lower()\n",
        "    return ' '.join([lm.lemmatize(word) for word in summary.split() if word not in stopwords.words(\"english\")])\n",
        "    \n",
        "# Applying this function\n",
        "cast_cleaned=cast_crew_df.copy()\n",
        "cast_cleaned['Summary']=cast_cleaned['Summary'].apply(clean_summary)"
      ],
      "id": "961df14e",
      "execution_count": 139,
      "outputs": []
    },
    {
      "cell_type": "markdown",
      "metadata": {
        "id": "xXvgJRcMrH42"
      },
      "source": [
        "## <b> Storing all the features of a movie in a single list:</b>\n",
        "* These are the collective contents of a movie\n",
        "* They constitute of the Cast members, crew members, Summary and genres"
      ],
      "id": "xXvgJRcMrH42"
    },
    {
      "cell_type": "code",
      "metadata": {
        "id": "6624e238"
      },
      "source": [
        "# Creating a list that will store the overall contents\n",
        "store_overall_contents=[]\n",
        "for i in range(len(cast_cleaned)):\n",
        "    store_row_contents=[]\n",
        "    for j in range(len(cast_cleaned.columns[:-1])):\n",
        "        store_row_contents.append(cast_cleaned.iloc[i,j])\n",
        "    store_overall_contents.append(store_row_contents)"
      ],
      "id": "6624e238",
      "execution_count": 140,
      "outputs": []
    },
    {
      "cell_type": "code",
      "metadata": {
        "colab": {
          "base_uri": "https://localhost:8080/"
        },
        "id": "c4ce7c0f",
        "outputId": "14edd515-a7b2-4851-d7c4-4e64b47ccf8b"
      },
      "source": [
        "# this is how the content looks like now for each movie\n",
        "store_overall_contents[1]"
      ],
      "id": "c4ce7c0f",
      "execution_count": 141,
      "outputs": [
        {
          "output_type": "execute_result",
          "data": {
            "text/plain": [
              "['Coky_Giedroyc',\n",
              " 'Caitlin_Moran',\n",
              " 'Paddy_Considine,Cleo,Beanie_Feldstein,Dónal_Finn',\n",
              " 'Drama,Comedy',\n",
              " 'nerdy johanna move london thing get hand reinvents bad mouthed music critic save poverty stricken family']"
            ]
          },
          "metadata": {
            "tags": []
          },
          "execution_count": 141
        }
      ]
    },
    {
      "cell_type": "markdown",
      "metadata": {
        "id": "a538c825"
      },
      "source": [
        "## <b>Processing our Overall Contents:</b>\n",
        "* Storing all the contents and the title into a final dataset\n",
        "* We still need to remove commas from the contents"
      ],
      "id": "a538c825"
    },
    {
      "cell_type": "code",
      "metadata": {
        "id": "f39dc24a"
      },
      "source": [
        "# Our final dataset\n",
        "final_df=pd.DataFrame()\n",
        "final_df['Title']=cast_cleaned['Title']\n",
        "final_df['Contents']=store_overall_contents\n",
        "\n",
        "# Converting the lists to strings\n",
        "final_df['Contents']=final_df['Contents'].apply(lambda x:','.join(x))"
      ],
      "id": "f39dc24a",
      "execution_count": 142,
      "outputs": []
    },
    {
      "cell_type": "code",
      "metadata": {
        "colab": {
          "base_uri": "https://localhost:8080/",
          "height": 205
        },
        "id": "30ec864d",
        "outputId": "bc8ad1a2-31ae-4367-f7a9-63e718aeed96"
      },
      "source": [
        "# Our final dataset\n",
        "final_df.head()"
      ],
      "id": "30ec864d",
      "execution_count": 143,
      "outputs": [
        {
          "output_type": "execute_result",
          "data": {
            "text/html": [
              "<div>\n",
              "<style scoped>\n",
              "    .dataframe tbody tr th:only-of-type {\n",
              "        vertical-align: middle;\n",
              "    }\n",
              "\n",
              "    .dataframe tbody tr th {\n",
              "        vertical-align: top;\n",
              "    }\n",
              "\n",
              "    .dataframe thead th {\n",
              "        text-align: right;\n",
              "    }\n",
              "</style>\n",
              "<table border=\"1\" class=\"dataframe\">\n",
              "  <thead>\n",
              "    <tr style=\"text-align: right;\">\n",
              "      <th></th>\n",
              "      <th>Title</th>\n",
              "      <th>Contents</th>\n",
              "    </tr>\n",
              "  </thead>\n",
              "  <tbody>\n",
              "    <tr>\n",
              "      <th>0</th>\n",
              "      <td>Lets Fight Ghost</td>\n",
              "      <td>Tomas_Alfredson,John_Ajvide_Lindqvist,Kåre_Hedebrant,Per_Ragnar,Lina_Leandersson,Henrik_Dahl,Hor...</td>\n",
              "    </tr>\n",
              "    <tr>\n",
              "      <th>1</th>\n",
              "      <td>HOW TO BUILD A GIRL</td>\n",
              "      <td>Coky_Giedroyc,Caitlin_Moran,Paddy_Considine,Cleo,Beanie_Feldstein,Dónal_Finn,Drama,Comedy,nerdy ...</td>\n",
              "    </tr>\n",
              "    <tr>\n",
              "      <th>2</th>\n",
              "      <td>Centigrade</td>\n",
              "      <td>Brendan_Walsh,Brendan_Walsh,Daley_Nixon,Genesis_Rodriguez,Vincent_Piazza,Thriller,trapped frozen...</td>\n",
              "    </tr>\n",
              "    <tr>\n",
              "      <th>3</th>\n",
              "      <td>The Con-Heartist</td>\n",
              "      <td>Mez_Tharatorn,Pattaranad_Bhiboonsawade,Thodsapon_Thiptinnakorn,Mez_Tharatorn,Thiti_Mahayotaruk,N...</td>\n",
              "    </tr>\n",
              "    <tr>\n",
              "      <th>4</th>\n",
              "      <td>Only a Mother</td>\n",
              "      <td>Alf_Sjöberg,Ivar_Lo-Johansson,Ulf_Palme,Ragnar_Falck,Hugo_Björne,Eva_Dahlbeck,Drama,unhappily ma...</td>\n",
              "    </tr>\n",
              "  </tbody>\n",
              "</table>\n",
              "</div>"
            ],
            "text/plain": [
              "                 Title  \\\n",
              "0     Lets Fight Ghost   \n",
              "1  HOW TO BUILD A GIRL   \n",
              "2           Centigrade   \n",
              "3     The Con-Heartist   \n",
              "4        Only a Mother   \n",
              "\n",
              "                                                                                              Contents  \n",
              "0  Tomas_Alfredson,John_Ajvide_Lindqvist,Kåre_Hedebrant,Per_Ragnar,Lina_Leandersson,Henrik_Dahl,Hor...  \n",
              "1  Coky_Giedroyc,Caitlin_Moran,Paddy_Considine,Cleo,Beanie_Feldstein,Dónal_Finn,Drama,Comedy,nerdy ...  \n",
              "2  Brendan_Walsh,Brendan_Walsh,Daley_Nixon,Genesis_Rodriguez,Vincent_Piazza,Thriller,trapped frozen...  \n",
              "3  Mez_Tharatorn,Pattaranad_Bhiboonsawade,Thodsapon_Thiptinnakorn,Mez_Tharatorn,Thiti_Mahayotaruk,N...  \n",
              "4  Alf_Sjöberg,Ivar_Lo-Johansson,Ulf_Palme,Ragnar_Falck,Hugo_Björne,Eva_Dahlbeck,Drama,unhappily ma...  "
            ]
          },
          "metadata": {
            "tags": []
          },
          "execution_count": 143
        }
      ]
    },
    {
      "cell_type": "code",
      "metadata": {
        "id": "90ea31a3"
      },
      "source": [
        "# Removing commas and other special chars if any\n",
        "def clean_contents(contents):\n",
        "    cont=re.sub(\"[,%*#@!$]\",' ',contents)\n",
        "    cont = cont.lower()\n",
        "    return cont\n",
        "\n",
        "final_df['Contents']=final_df['Contents'].apply(clean_contents)"
      ],
      "id": "90ea31a3",
      "execution_count": 144,
      "outputs": []
    },
    {
      "cell_type": "code",
      "metadata": {
        "colab": {
          "base_uri": "https://localhost:8080/",
          "height": 205
        },
        "id": "60d8c6af",
        "outputId": "90c5a52b-bb5d-4c2d-8384-90b525ead216"
      },
      "source": [
        "final_df.head()"
      ],
      "id": "60d8c6af",
      "execution_count": 145,
      "outputs": [
        {
          "output_type": "execute_result",
          "data": {
            "text/html": [
              "<div>\n",
              "<style scoped>\n",
              "    .dataframe tbody tr th:only-of-type {\n",
              "        vertical-align: middle;\n",
              "    }\n",
              "\n",
              "    .dataframe tbody tr th {\n",
              "        vertical-align: top;\n",
              "    }\n",
              "\n",
              "    .dataframe thead th {\n",
              "        text-align: right;\n",
              "    }\n",
              "</style>\n",
              "<table border=\"1\" class=\"dataframe\">\n",
              "  <thead>\n",
              "    <tr style=\"text-align: right;\">\n",
              "      <th></th>\n",
              "      <th>Title</th>\n",
              "      <th>Contents</th>\n",
              "    </tr>\n",
              "  </thead>\n",
              "  <tbody>\n",
              "    <tr>\n",
              "      <th>0</th>\n",
              "      <td>Lets Fight Ghost</td>\n",
              "      <td>tomas_alfredson john_ajvide_lindqvist kåre_hedebrant per_ragnar lina_leandersson henrik_dahl hor...</td>\n",
              "    </tr>\n",
              "    <tr>\n",
              "      <th>1</th>\n",
              "      <td>HOW TO BUILD A GIRL</td>\n",
              "      <td>coky_giedroyc caitlin_moran paddy_considine cleo beanie_feldstein dónal_finn drama comedy nerdy ...</td>\n",
              "    </tr>\n",
              "    <tr>\n",
              "      <th>2</th>\n",
              "      <td>Centigrade</td>\n",
              "      <td>brendan_walsh brendan_walsh daley_nixon genesis_rodriguez vincent_piazza thriller trapped frozen...</td>\n",
              "    </tr>\n",
              "    <tr>\n",
              "      <th>3</th>\n",
              "      <td>The Con-Heartist</td>\n",
              "      <td>mez_tharatorn pattaranad_bhiboonsawade thodsapon_thiptinnakorn mez_tharatorn thiti_mahayotaruk n...</td>\n",
              "    </tr>\n",
              "    <tr>\n",
              "      <th>4</th>\n",
              "      <td>Only a Mother</td>\n",
              "      <td>alf_sjöberg ivar_lo-johansson ulf_palme ragnar_falck hugo_björne eva_dahlbeck drama unhappily ma...</td>\n",
              "    </tr>\n",
              "  </tbody>\n",
              "</table>\n",
              "</div>"
            ],
            "text/plain": [
              "                 Title  \\\n",
              "0     Lets Fight Ghost   \n",
              "1  HOW TO BUILD A GIRL   \n",
              "2           Centigrade   \n",
              "3     The Con-Heartist   \n",
              "4        Only a Mother   \n",
              "\n",
              "                                                                                              Contents  \n",
              "0  tomas_alfredson john_ajvide_lindqvist kåre_hedebrant per_ragnar lina_leandersson henrik_dahl hor...  \n",
              "1  coky_giedroyc caitlin_moran paddy_considine cleo beanie_feldstein dónal_finn drama comedy nerdy ...  \n",
              "2  brendan_walsh brendan_walsh daley_nixon genesis_rodriguez vincent_piazza thriller trapped frozen...  \n",
              "3  mez_tharatorn pattaranad_bhiboonsawade thodsapon_thiptinnakorn mez_tharatorn thiti_mahayotaruk n...  \n",
              "4  alf_sjöberg ivar_lo-johansson ulf_palme ragnar_falck hugo_björne eva_dahlbeck drama unhappily ma...  "
            ]
          },
          "metadata": {
            "tags": []
          },
          "execution_count": 145
        }
      ]
    },
    {
      "cell_type": "code",
      "metadata": {
        "colab": {
          "base_uri": "https://localhost:8080/"
        },
        "id": "72e8d9b8",
        "outputId": "a90e8fa8-f9e5-4ede-ffef-ef05f53babe2"
      },
      "source": [
        "# Checking duplicate movie titles\n",
        "final_df.duplicated(subset=['Title']).sum()"
      ],
      "id": "72e8d9b8",
      "execution_count": 146,
      "outputs": [
        {
          "output_type": "execute_result",
          "data": {
            "text/plain": [
              "0"
            ]
          },
          "metadata": {
            "tags": []
          },
          "execution_count": 146
        }
      ]
    },
    {
      "cell_type": "code",
      "metadata": {
        "id": "b6eee622"
      },
      "source": [
        "# Reseting index values of our index\n",
        "final_df.reset_index(inplace=True)\n",
        "final_df.drop('index',axis=1,inplace=True)"
      ],
      "id": "b6eee622",
      "execution_count": 148,
      "outputs": []
    },
    {
      "cell_type": "markdown",
      "metadata": {
        "id": "3a36d86a"
      },
      "source": [
        "## <b>Using Singular Value Decomposition(SVD) to decompose our matrix:</b>\n",
        "* We have over 50,000 features in the sparse matric which needs to be decomposed using SVD\n",
        "* After decomposing, we will write a function which will give movie recommendations"
      ],
      "id": "3a36d86a"
    },
    {
      "cell_type": "code",
      "metadata": {
        "id": "76e77a26"
      },
      "source": [
        "# Importing TfidfVectorizer\n",
        "# Vectorization of our sparse matrix\n",
        "\n",
        "from sklearn.feature_extraction.text import TfidfVectorizer\n",
        "tf = TfidfVectorizer()\n",
        "tf_arr = tf.fit_transform(final_df['Contents']).toarray()"
      ],
      "id": "76e77a26",
      "execution_count": 149,
      "outputs": []
    },
    {
      "cell_type": "code",
      "metadata": {
        "id": "5317c330"
      },
      "source": [
        "# Importing SVD\n",
        "from sklearn.decomposition import TruncatedSVD\n",
        "svd = TruncatedSVD(n_components=100)\n",
        "df_contents = pd.DataFrame(svd.fit_transform(tf_arr), index=final_df['Title'])"
      ],
      "id": "5317c330",
      "execution_count": 151,
      "outputs": []
    },
    {
      "cell_type": "code",
      "metadata": {
        "colab": {
          "base_uri": "https://localhost:8080/",
          "height": 343
        },
        "id": "98690549",
        "outputId": "5943516e-6875-4eae-95a0-4229df990fad"
      },
      "source": [
        "# Final dataset after decomposing using SVD\n",
        "df_contents.head()"
      ],
      "id": "98690549",
      "execution_count": 152,
      "outputs": [
        {
          "output_type": "execute_result",
          "data": {
            "text/html": [
              "<div>\n",
              "<style scoped>\n",
              "    .dataframe tbody tr th:only-of-type {\n",
              "        vertical-align: middle;\n",
              "    }\n",
              "\n",
              "    .dataframe tbody tr th {\n",
              "        vertical-align: top;\n",
              "    }\n",
              "\n",
              "    .dataframe thead th {\n",
              "        text-align: right;\n",
              "    }\n",
              "</style>\n",
              "<table border=\"1\" class=\"dataframe\">\n",
              "  <thead>\n",
              "    <tr style=\"text-align: right;\">\n",
              "      <th></th>\n",
              "      <th>0</th>\n",
              "      <th>1</th>\n",
              "      <th>2</th>\n",
              "      <th>3</th>\n",
              "      <th>4</th>\n",
              "      <th>5</th>\n",
              "      <th>6</th>\n",
              "      <th>7</th>\n",
              "      <th>8</th>\n",
              "      <th>9</th>\n",
              "      <th>10</th>\n",
              "      <th>11</th>\n",
              "      <th>12</th>\n",
              "      <th>13</th>\n",
              "      <th>14</th>\n",
              "      <th>15</th>\n",
              "      <th>16</th>\n",
              "      <th>17</th>\n",
              "      <th>18</th>\n",
              "      <th>19</th>\n",
              "      <th>20</th>\n",
              "      <th>21</th>\n",
              "      <th>22</th>\n",
              "      <th>23</th>\n",
              "      <th>24</th>\n",
              "      <th>25</th>\n",
              "      <th>26</th>\n",
              "      <th>27</th>\n",
              "      <th>28</th>\n",
              "      <th>29</th>\n",
              "      <th>30</th>\n",
              "      <th>31</th>\n",
              "      <th>32</th>\n",
              "      <th>33</th>\n",
              "      <th>34</th>\n",
              "      <th>35</th>\n",
              "      <th>36</th>\n",
              "      <th>37</th>\n",
              "      <th>38</th>\n",
              "      <th>39</th>\n",
              "      <th>40</th>\n",
              "      <th>41</th>\n",
              "      <th>42</th>\n",
              "      <th>43</th>\n",
              "      <th>44</th>\n",
              "      <th>45</th>\n",
              "      <th>46</th>\n",
              "      <th>47</th>\n",
              "      <th>48</th>\n",
              "      <th>49</th>\n",
              "      <th>50</th>\n",
              "      <th>51</th>\n",
              "      <th>52</th>\n",
              "      <th>53</th>\n",
              "      <th>54</th>\n",
              "      <th>55</th>\n",
              "      <th>56</th>\n",
              "      <th>57</th>\n",
              "      <th>58</th>\n",
              "      <th>59</th>\n",
              "      <th>60</th>\n",
              "      <th>61</th>\n",
              "      <th>62</th>\n",
              "      <th>63</th>\n",
              "      <th>64</th>\n",
              "      <th>65</th>\n",
              "      <th>66</th>\n",
              "      <th>67</th>\n",
              "      <th>68</th>\n",
              "      <th>69</th>\n",
              "      <th>70</th>\n",
              "      <th>71</th>\n",
              "      <th>72</th>\n",
              "      <th>73</th>\n",
              "      <th>74</th>\n",
              "      <th>75</th>\n",
              "      <th>76</th>\n",
              "      <th>77</th>\n",
              "      <th>78</th>\n",
              "      <th>79</th>\n",
              "      <th>80</th>\n",
              "      <th>81</th>\n",
              "      <th>82</th>\n",
              "      <th>83</th>\n",
              "      <th>84</th>\n",
              "      <th>85</th>\n",
              "      <th>86</th>\n",
              "      <th>87</th>\n",
              "      <th>88</th>\n",
              "      <th>89</th>\n",
              "      <th>90</th>\n",
              "      <th>91</th>\n",
              "      <th>92</th>\n",
              "      <th>93</th>\n",
              "      <th>94</th>\n",
              "      <th>95</th>\n",
              "      <th>96</th>\n",
              "      <th>97</th>\n",
              "      <th>98</th>\n",
              "      <th>99</th>\n",
              "    </tr>\n",
              "    <tr>\n",
              "      <th>Title</th>\n",
              "      <th></th>\n",
              "      <th></th>\n",
              "      <th></th>\n",
              "      <th></th>\n",
              "      <th></th>\n",
              "      <th></th>\n",
              "      <th></th>\n",
              "      <th></th>\n",
              "      <th></th>\n",
              "      <th></th>\n",
              "      <th></th>\n",
              "      <th></th>\n",
              "      <th></th>\n",
              "      <th></th>\n",
              "      <th></th>\n",
              "      <th></th>\n",
              "      <th></th>\n",
              "      <th></th>\n",
              "      <th></th>\n",
              "      <th></th>\n",
              "      <th></th>\n",
              "      <th></th>\n",
              "      <th></th>\n",
              "      <th></th>\n",
              "      <th></th>\n",
              "      <th></th>\n",
              "      <th></th>\n",
              "      <th></th>\n",
              "      <th></th>\n",
              "      <th></th>\n",
              "      <th></th>\n",
              "      <th></th>\n",
              "      <th></th>\n",
              "      <th></th>\n",
              "      <th></th>\n",
              "      <th></th>\n",
              "      <th></th>\n",
              "      <th></th>\n",
              "      <th></th>\n",
              "      <th></th>\n",
              "      <th></th>\n",
              "      <th></th>\n",
              "      <th></th>\n",
              "      <th></th>\n",
              "      <th></th>\n",
              "      <th></th>\n",
              "      <th></th>\n",
              "      <th></th>\n",
              "      <th></th>\n",
              "      <th></th>\n",
              "      <th></th>\n",
              "      <th></th>\n",
              "      <th></th>\n",
              "      <th></th>\n",
              "      <th></th>\n",
              "      <th></th>\n",
              "      <th></th>\n",
              "      <th></th>\n",
              "      <th></th>\n",
              "      <th></th>\n",
              "      <th></th>\n",
              "      <th></th>\n",
              "      <th></th>\n",
              "      <th></th>\n",
              "      <th></th>\n",
              "      <th></th>\n",
              "      <th></th>\n",
              "      <th></th>\n",
              "      <th></th>\n",
              "      <th></th>\n",
              "      <th></th>\n",
              "      <th></th>\n",
              "      <th></th>\n",
              "      <th></th>\n",
              "      <th></th>\n",
              "      <th></th>\n",
              "      <th></th>\n",
              "      <th></th>\n",
              "      <th></th>\n",
              "      <th></th>\n",
              "      <th></th>\n",
              "      <th></th>\n",
              "      <th></th>\n",
              "      <th></th>\n",
              "      <th></th>\n",
              "      <th></th>\n",
              "      <th></th>\n",
              "      <th></th>\n",
              "      <th></th>\n",
              "      <th></th>\n",
              "      <th></th>\n",
              "      <th></th>\n",
              "      <th></th>\n",
              "      <th></th>\n",
              "      <th></th>\n",
              "      <th></th>\n",
              "      <th></th>\n",
              "      <th></th>\n",
              "      <th></th>\n",
              "      <th></th>\n",
              "    </tr>\n",
              "  </thead>\n",
              "  <tbody>\n",
              "    <tr>\n",
              "      <th>Lets Fight Ghost</th>\n",
              "      <td>0.062814</td>\n",
              "      <td>-0.051443</td>\n",
              "      <td>-0.002485</td>\n",
              "      <td>-0.049680</td>\n",
              "      <td>-0.014429</td>\n",
              "      <td>0.059433</td>\n",
              "      <td>-0.114200</td>\n",
              "      <td>-0.016403</td>\n",
              "      <td>-0.023190</td>\n",
              "      <td>-0.040379</td>\n",
              "      <td>-0.033078</td>\n",
              "      <td>-0.009316</td>\n",
              "      <td>0.017352</td>\n",
              "      <td>-0.034949</td>\n",
              "      <td>0.000651</td>\n",
              "      <td>0.034277</td>\n",
              "      <td>0.018389</td>\n",
              "      <td>-0.025626</td>\n",
              "      <td>0.012649</td>\n",
              "      <td>0.020873</td>\n",
              "      <td>0.018891</td>\n",
              "      <td>-0.007954</td>\n",
              "      <td>-0.038799</td>\n",
              "      <td>-0.016607</td>\n",
              "      <td>0.014126</td>\n",
              "      <td>0.023650</td>\n",
              "      <td>0.009719</td>\n",
              "      <td>0.008483</td>\n",
              "      <td>0.022943</td>\n",
              "      <td>0.014059</td>\n",
              "      <td>-0.026964</td>\n",
              "      <td>0.048203</td>\n",
              "      <td>0.052303</td>\n",
              "      <td>-0.040211</td>\n",
              "      <td>-0.048607</td>\n",
              "      <td>0.063891</td>\n",
              "      <td>-0.041635</td>\n",
              "      <td>-0.009578</td>\n",
              "      <td>0.006836</td>\n",
              "      <td>0.003900</td>\n",
              "      <td>0.025195</td>\n",
              "      <td>-0.004532</td>\n",
              "      <td>-0.028891</td>\n",
              "      <td>-0.037727</td>\n",
              "      <td>-0.049401</td>\n",
              "      <td>0.006662</td>\n",
              "      <td>-0.005930</td>\n",
              "      <td>-0.038072</td>\n",
              "      <td>-0.077256</td>\n",
              "      <td>-0.029885</td>\n",
              "      <td>-0.032922</td>\n",
              "      <td>-0.023693</td>\n",
              "      <td>-0.006520</td>\n",
              "      <td>-0.025100</td>\n",
              "      <td>-0.008866</td>\n",
              "      <td>-0.034219</td>\n",
              "      <td>-0.068909</td>\n",
              "      <td>0.027366</td>\n",
              "      <td>0.042718</td>\n",
              "      <td>0.042536</td>\n",
              "      <td>-0.019906</td>\n",
              "      <td>-0.000235</td>\n",
              "      <td>-0.022578</td>\n",
              "      <td>0.015209</td>\n",
              "      <td>0.002935</td>\n",
              "      <td>-0.013432</td>\n",
              "      <td>0.022437</td>\n",
              "      <td>0.023996</td>\n",
              "      <td>-0.005127</td>\n",
              "      <td>0.001819</td>\n",
              "      <td>-0.020299</td>\n",
              "      <td>-0.010373</td>\n",
              "      <td>0.038625</td>\n",
              "      <td>-0.014111</td>\n",
              "      <td>-0.008188</td>\n",
              "      <td>-0.019747</td>\n",
              "      <td>0.024146</td>\n",
              "      <td>0.014123</td>\n",
              "      <td>0.008758</td>\n",
              "      <td>0.017735</td>\n",
              "      <td>0.016638</td>\n",
              "      <td>-0.015796</td>\n",
              "      <td>0.006315</td>\n",
              "      <td>0.000543</td>\n",
              "      <td>0.003247</td>\n",
              "      <td>0.000868</td>\n",
              "      <td>-0.042817</td>\n",
              "      <td>-0.030214</td>\n",
              "      <td>0.015050</td>\n",
              "      <td>0.007481</td>\n",
              "      <td>-0.002668</td>\n",
              "      <td>0.027955</td>\n",
              "      <td>-0.005567</td>\n",
              "      <td>-0.012030</td>\n",
              "      <td>-0.006436</td>\n",
              "      <td>0.002108</td>\n",
              "      <td>-0.035995</td>\n",
              "      <td>-0.011667</td>\n",
              "      <td>-0.024666</td>\n",
              "      <td>-0.004024</td>\n",
              "    </tr>\n",
              "    <tr>\n",
              "      <th>HOW TO BUILD A GIRL</th>\n",
              "      <td>0.086360</td>\n",
              "      <td>-0.071225</td>\n",
              "      <td>-0.041940</td>\n",
              "      <td>0.041718</td>\n",
              "      <td>0.008582</td>\n",
              "      <td>0.052675</td>\n",
              "      <td>0.054893</td>\n",
              "      <td>-0.013407</td>\n",
              "      <td>-0.046414</td>\n",
              "      <td>-0.004302</td>\n",
              "      <td>-0.015937</td>\n",
              "      <td>-0.004307</td>\n",
              "      <td>0.017181</td>\n",
              "      <td>-0.033547</td>\n",
              "      <td>0.004694</td>\n",
              "      <td>-0.018058</td>\n",
              "      <td>0.031475</td>\n",
              "      <td>-0.011722</td>\n",
              "      <td>0.012478</td>\n",
              "      <td>-0.018094</td>\n",
              "      <td>0.030225</td>\n",
              "      <td>-0.041423</td>\n",
              "      <td>-0.002341</td>\n",
              "      <td>0.026366</td>\n",
              "      <td>0.001910</td>\n",
              "      <td>-0.061122</td>\n",
              "      <td>0.042924</td>\n",
              "      <td>-0.010461</td>\n",
              "      <td>0.024360</td>\n",
              "      <td>-0.013790</td>\n",
              "      <td>0.014201</td>\n",
              "      <td>-0.002393</td>\n",
              "      <td>-0.026301</td>\n",
              "      <td>-0.017738</td>\n",
              "      <td>0.003546</td>\n",
              "      <td>0.013802</td>\n",
              "      <td>0.007479</td>\n",
              "      <td>-0.010840</td>\n",
              "      <td>-0.001775</td>\n",
              "      <td>-0.009333</td>\n",
              "      <td>-0.021153</td>\n",
              "      <td>-0.007009</td>\n",
              "      <td>-0.028114</td>\n",
              "      <td>0.018955</td>\n",
              "      <td>0.004584</td>\n",
              "      <td>-0.008758</td>\n",
              "      <td>0.004740</td>\n",
              "      <td>0.012552</td>\n",
              "      <td>0.010506</td>\n",
              "      <td>-0.008033</td>\n",
              "      <td>-0.019188</td>\n",
              "      <td>-0.021850</td>\n",
              "      <td>0.003778</td>\n",
              "      <td>-0.020658</td>\n",
              "      <td>-0.000390</td>\n",
              "      <td>-0.005717</td>\n",
              "      <td>-0.019679</td>\n",
              "      <td>0.007434</td>\n",
              "      <td>-0.018438</td>\n",
              "      <td>0.014646</td>\n",
              "      <td>-0.005609</td>\n",
              "      <td>-0.027407</td>\n",
              "      <td>0.015024</td>\n",
              "      <td>0.014200</td>\n",
              "      <td>-0.003248</td>\n",
              "      <td>0.005689</td>\n",
              "      <td>-0.012513</td>\n",
              "      <td>-0.036858</td>\n",
              "      <td>-0.009482</td>\n",
              "      <td>0.002302</td>\n",
              "      <td>-0.010397</td>\n",
              "      <td>0.003896</td>\n",
              "      <td>-0.001028</td>\n",
              "      <td>0.011575</td>\n",
              "      <td>-0.011753</td>\n",
              "      <td>-0.001712</td>\n",
              "      <td>-0.009892</td>\n",
              "      <td>0.016905</td>\n",
              "      <td>-0.019000</td>\n",
              "      <td>0.036730</td>\n",
              "      <td>0.013756</td>\n",
              "      <td>0.051319</td>\n",
              "      <td>-0.001618</td>\n",
              "      <td>0.009676</td>\n",
              "      <td>-0.022579</td>\n",
              "      <td>-0.008851</td>\n",
              "      <td>0.018277</td>\n",
              "      <td>0.015118</td>\n",
              "      <td>-0.044286</td>\n",
              "      <td>-0.004016</td>\n",
              "      <td>0.036563</td>\n",
              "      <td>-0.000003</td>\n",
              "      <td>0.051132</td>\n",
              "      <td>-0.036074</td>\n",
              "      <td>-0.023428</td>\n",
              "      <td>-0.006617</td>\n",
              "      <td>0.034867</td>\n",
              "      <td>-0.008264</td>\n",
              "      <td>0.003831</td>\n",
              "      <td>-0.013543</td>\n",
              "    </tr>\n",
              "    <tr>\n",
              "      <th>Centigrade</th>\n",
              "      <td>0.060395</td>\n",
              "      <td>0.001448</td>\n",
              "      <td>0.049116</td>\n",
              "      <td>-0.010947</td>\n",
              "      <td>-0.035345</td>\n",
              "      <td>-0.018034</td>\n",
              "      <td>-0.009507</td>\n",
              "      <td>-0.013368</td>\n",
              "      <td>0.031481</td>\n",
              "      <td>-0.037313</td>\n",
              "      <td>-0.040649</td>\n",
              "      <td>-0.008233</td>\n",
              "      <td>-0.031662</td>\n",
              "      <td>-0.003794</td>\n",
              "      <td>0.034075</td>\n",
              "      <td>-0.016109</td>\n",
              "      <td>-0.007524</td>\n",
              "      <td>-0.057997</td>\n",
              "      <td>-0.033718</td>\n",
              "      <td>0.040296</td>\n",
              "      <td>-0.007034</td>\n",
              "      <td>-0.068008</td>\n",
              "      <td>0.059949</td>\n",
              "      <td>0.073232</td>\n",
              "      <td>-0.041352</td>\n",
              "      <td>0.030295</td>\n",
              "      <td>-0.062226</td>\n",
              "      <td>-0.075461</td>\n",
              "      <td>0.020688</td>\n",
              "      <td>-0.043407</td>\n",
              "      <td>0.002462</td>\n",
              "      <td>-0.040713</td>\n",
              "      <td>-0.027601</td>\n",
              "      <td>-0.011296</td>\n",
              "      <td>-0.004240</td>\n",
              "      <td>0.018269</td>\n",
              "      <td>0.028918</td>\n",
              "      <td>0.025690</td>\n",
              "      <td>0.031623</td>\n",
              "      <td>-0.015153</td>\n",
              "      <td>0.004661</td>\n",
              "      <td>-0.030989</td>\n",
              "      <td>0.006761</td>\n",
              "      <td>-0.006158</td>\n",
              "      <td>0.003384</td>\n",
              "      <td>0.009935</td>\n",
              "      <td>-0.012855</td>\n",
              "      <td>-0.047068</td>\n",
              "      <td>0.016221</td>\n",
              "      <td>-0.017727</td>\n",
              "      <td>0.005721</td>\n",
              "      <td>0.007060</td>\n",
              "      <td>0.006564</td>\n",
              "      <td>-0.008581</td>\n",
              "      <td>0.001214</td>\n",
              "      <td>0.015216</td>\n",
              "      <td>-0.015283</td>\n",
              "      <td>0.008436</td>\n",
              "      <td>-0.001604</td>\n",
              "      <td>0.016839</td>\n",
              "      <td>0.000776</td>\n",
              "      <td>0.011205</td>\n",
              "      <td>-0.003049</td>\n",
              "      <td>-0.023807</td>\n",
              "      <td>0.024282</td>\n",
              "      <td>-0.015275</td>\n",
              "      <td>0.025670</td>\n",
              "      <td>-0.001963</td>\n",
              "      <td>0.020517</td>\n",
              "      <td>-0.031387</td>\n",
              "      <td>0.026635</td>\n",
              "      <td>-0.031670</td>\n",
              "      <td>-0.025887</td>\n",
              "      <td>-0.002357</td>\n",
              "      <td>0.000282</td>\n",
              "      <td>-0.012607</td>\n",
              "      <td>0.022564</td>\n",
              "      <td>-0.034051</td>\n",
              "      <td>0.015174</td>\n",
              "      <td>0.021753</td>\n",
              "      <td>-0.008246</td>\n",
              "      <td>0.016472</td>\n",
              "      <td>0.029808</td>\n",
              "      <td>-0.008518</td>\n",
              "      <td>0.002758</td>\n",
              "      <td>0.001495</td>\n",
              "      <td>-0.008658</td>\n",
              "      <td>0.000831</td>\n",
              "      <td>0.036394</td>\n",
              "      <td>0.007755</td>\n",
              "      <td>0.012050</td>\n",
              "      <td>-0.006121</td>\n",
              "      <td>0.002111</td>\n",
              "      <td>-0.025575</td>\n",
              "      <td>0.022018</td>\n",
              "      <td>-0.019831</td>\n",
              "      <td>-0.006968</td>\n",
              "      <td>0.048763</td>\n",
              "      <td>0.029087</td>\n",
              "      <td>0.014423</td>\n",
              "    </tr>\n",
              "    <tr>\n",
              "      <th>The Con-Heartist</th>\n",
              "      <td>0.041226</td>\n",
              "      <td>-0.021211</td>\n",
              "      <td>0.004597</td>\n",
              "      <td>0.010044</td>\n",
              "      <td>0.053078</td>\n",
              "      <td>0.015681</td>\n",
              "      <td>-0.004916</td>\n",
              "      <td>-0.001136</td>\n",
              "      <td>0.019115</td>\n",
              "      <td>-0.009010</td>\n",
              "      <td>0.004164</td>\n",
              "      <td>-0.021861</td>\n",
              "      <td>0.011903</td>\n",
              "      <td>-0.006621</td>\n",
              "      <td>0.000618</td>\n",
              "      <td>0.018669</td>\n",
              "      <td>0.011370</td>\n",
              "      <td>-0.002962</td>\n",
              "      <td>0.012122</td>\n",
              "      <td>-0.015201</td>\n",
              "      <td>0.009990</td>\n",
              "      <td>-0.024516</td>\n",
              "      <td>0.007645</td>\n",
              "      <td>0.007202</td>\n",
              "      <td>0.008463</td>\n",
              "      <td>-0.012423</td>\n",
              "      <td>0.006410</td>\n",
              "      <td>-0.009616</td>\n",
              "      <td>-0.004145</td>\n",
              "      <td>-0.004091</td>\n",
              "      <td>0.003612</td>\n",
              "      <td>-0.025892</td>\n",
              "      <td>0.041650</td>\n",
              "      <td>0.014181</td>\n",
              "      <td>-0.023524</td>\n",
              "      <td>0.002474</td>\n",
              "      <td>-0.002869</td>\n",
              "      <td>-0.012869</td>\n",
              "      <td>0.021055</td>\n",
              "      <td>0.016541</td>\n",
              "      <td>-0.013239</td>\n",
              "      <td>-0.003714</td>\n",
              "      <td>0.016731</td>\n",
              "      <td>-0.017867</td>\n",
              "      <td>-0.012471</td>\n",
              "      <td>0.038042</td>\n",
              "      <td>0.019878</td>\n",
              "      <td>-0.038549</td>\n",
              "      <td>-0.014665</td>\n",
              "      <td>0.006226</td>\n",
              "      <td>0.004974</td>\n",
              "      <td>0.016551</td>\n",
              "      <td>-0.046582</td>\n",
              "      <td>0.000942</td>\n",
              "      <td>0.040614</td>\n",
              "      <td>-0.032785</td>\n",
              "      <td>-0.017712</td>\n",
              "      <td>0.015884</td>\n",
              "      <td>-0.063974</td>\n",
              "      <td>-0.017180</td>\n",
              "      <td>0.038666</td>\n",
              "      <td>0.012911</td>\n",
              "      <td>0.063971</td>\n",
              "      <td>0.064979</td>\n",
              "      <td>0.015267</td>\n",
              "      <td>0.020906</td>\n",
              "      <td>-0.027674</td>\n",
              "      <td>0.034887</td>\n",
              "      <td>-0.013942</td>\n",
              "      <td>-0.006119</td>\n",
              "      <td>-0.006397</td>\n",
              "      <td>-0.006286</td>\n",
              "      <td>-0.000353</td>\n",
              "      <td>0.008385</td>\n",
              "      <td>-0.047696</td>\n",
              "      <td>0.030300</td>\n",
              "      <td>-0.037313</td>\n",
              "      <td>0.021999</td>\n",
              "      <td>-0.037129</td>\n",
              "      <td>-0.024735</td>\n",
              "      <td>-0.014542</td>\n",
              "      <td>0.042935</td>\n",
              "      <td>-0.005902</td>\n",
              "      <td>0.019364</td>\n",
              "      <td>0.003556</td>\n",
              "      <td>0.038343</td>\n",
              "      <td>0.005280</td>\n",
              "      <td>-0.001024</td>\n",
              "      <td>0.008274</td>\n",
              "      <td>0.001874</td>\n",
              "      <td>-0.011287</td>\n",
              "      <td>-0.029464</td>\n",
              "      <td>0.001207</td>\n",
              "      <td>-0.011673</td>\n",
              "      <td>0.029574</td>\n",
              "      <td>0.016077</td>\n",
              "      <td>0.012263</td>\n",
              "      <td>0.005562</td>\n",
              "      <td>-0.011365</td>\n",
              "      <td>0.042033</td>\n",
              "    </tr>\n",
              "    <tr>\n",
              "      <th>Only a Mother</th>\n",
              "      <td>0.052954</td>\n",
              "      <td>-0.052053</td>\n",
              "      <td>0.026233</td>\n",
              "      <td>0.004557</td>\n",
              "      <td>-0.016299</td>\n",
              "      <td>-0.054762</td>\n",
              "      <td>0.007528</td>\n",
              "      <td>-0.005933</td>\n",
              "      <td>0.002595</td>\n",
              "      <td>-0.009159</td>\n",
              "      <td>-0.021606</td>\n",
              "      <td>-0.003762</td>\n",
              "      <td>-0.029596</td>\n",
              "      <td>-0.005257</td>\n",
              "      <td>0.023412</td>\n",
              "      <td>0.011225</td>\n",
              "      <td>-0.002247</td>\n",
              "      <td>-0.056678</td>\n",
              "      <td>-0.006817</td>\n",
              "      <td>0.052832</td>\n",
              "      <td>0.047302</td>\n",
              "      <td>-0.001391</td>\n",
              "      <td>-0.003668</td>\n",
              "      <td>-0.016443</td>\n",
              "      <td>-0.017951</td>\n",
              "      <td>-0.001377</td>\n",
              "      <td>0.014064</td>\n",
              "      <td>-0.023613</td>\n",
              "      <td>-0.002397</td>\n",
              "      <td>-0.041770</td>\n",
              "      <td>0.017445</td>\n",
              "      <td>-0.002242</td>\n",
              "      <td>-0.002621</td>\n",
              "      <td>0.004781</td>\n",
              "      <td>-0.020961</td>\n",
              "      <td>-0.018658</td>\n",
              "      <td>0.013524</td>\n",
              "      <td>0.012474</td>\n",
              "      <td>0.008197</td>\n",
              "      <td>0.009274</td>\n",
              "      <td>-0.019670</td>\n",
              "      <td>-0.009136</td>\n",
              "      <td>-0.017401</td>\n",
              "      <td>0.010207</td>\n",
              "      <td>0.022335</td>\n",
              "      <td>-0.020388</td>\n",
              "      <td>-0.010109</td>\n",
              "      <td>0.017198</td>\n",
              "      <td>-0.008560</td>\n",
              "      <td>-0.003118</td>\n",
              "      <td>-0.027387</td>\n",
              "      <td>0.009912</td>\n",
              "      <td>0.019277</td>\n",
              "      <td>-0.014090</td>\n",
              "      <td>0.023802</td>\n",
              "      <td>0.011057</td>\n",
              "      <td>0.030063</td>\n",
              "      <td>0.028388</td>\n",
              "      <td>0.015095</td>\n",
              "      <td>-0.030379</td>\n",
              "      <td>0.014447</td>\n",
              "      <td>0.048098</td>\n",
              "      <td>-0.007183</td>\n",
              "      <td>0.010150</td>\n",
              "      <td>-0.016090</td>\n",
              "      <td>0.023665</td>\n",
              "      <td>0.009528</td>\n",
              "      <td>-0.015394</td>\n",
              "      <td>0.021158</td>\n",
              "      <td>-0.050316</td>\n",
              "      <td>-0.000890</td>\n",
              "      <td>0.006953</td>\n",
              "      <td>-0.018894</td>\n",
              "      <td>0.008032</td>\n",
              "      <td>0.027640</td>\n",
              "      <td>0.013112</td>\n",
              "      <td>-0.026247</td>\n",
              "      <td>0.044765</td>\n",
              "      <td>0.020230</td>\n",
              "      <td>0.009561</td>\n",
              "      <td>-0.003990</td>\n",
              "      <td>0.012183</td>\n",
              "      <td>-0.015691</td>\n",
              "      <td>0.029599</td>\n",
              "      <td>-0.015101</td>\n",
              "      <td>0.012861</td>\n",
              "      <td>-0.041862</td>\n",
              "      <td>-0.023710</td>\n",
              "      <td>0.029485</td>\n",
              "      <td>-0.043853</td>\n",
              "      <td>0.036937</td>\n",
              "      <td>-0.011021</td>\n",
              "      <td>-0.019501</td>\n",
              "      <td>-0.014242</td>\n",
              "      <td>-0.006577</td>\n",
              "      <td>-0.008770</td>\n",
              "      <td>0.022598</td>\n",
              "      <td>-0.009821</td>\n",
              "      <td>-0.006524</td>\n",
              "      <td>0.004609</td>\n",
              "    </tr>\n",
              "  </tbody>\n",
              "</table>\n",
              "</div>"
            ],
            "text/plain": [
              "                           0         1         2         3         4   \\\n",
              "Title                                                                   \n",
              "Lets Fight Ghost     0.062814 -0.051443 -0.002485 -0.049680 -0.014429   \n",
              "HOW TO BUILD A GIRL  0.086360 -0.071225 -0.041940  0.041718  0.008582   \n",
              "Centigrade           0.060395  0.001448  0.049116 -0.010947 -0.035345   \n",
              "The Con-Heartist     0.041226 -0.021211  0.004597  0.010044  0.053078   \n",
              "Only a Mother        0.052954 -0.052053  0.026233  0.004557 -0.016299   \n",
              "\n",
              "                           5         6         7         8         9   \\\n",
              "Title                                                                   \n",
              "Lets Fight Ghost     0.059433 -0.114200 -0.016403 -0.023190 -0.040379   \n",
              "HOW TO BUILD A GIRL  0.052675  0.054893 -0.013407 -0.046414 -0.004302   \n",
              "Centigrade          -0.018034 -0.009507 -0.013368  0.031481 -0.037313   \n",
              "The Con-Heartist     0.015681 -0.004916 -0.001136  0.019115 -0.009010   \n",
              "Only a Mother       -0.054762  0.007528 -0.005933  0.002595 -0.009159   \n",
              "\n",
              "                           10        11        12        13        14  \\\n",
              "Title                                                                   \n",
              "Lets Fight Ghost    -0.033078 -0.009316  0.017352 -0.034949  0.000651   \n",
              "HOW TO BUILD A GIRL -0.015937 -0.004307  0.017181 -0.033547  0.004694   \n",
              "Centigrade          -0.040649 -0.008233 -0.031662 -0.003794  0.034075   \n",
              "The Con-Heartist     0.004164 -0.021861  0.011903 -0.006621  0.000618   \n",
              "Only a Mother       -0.021606 -0.003762 -0.029596 -0.005257  0.023412   \n",
              "\n",
              "                           15        16        17        18        19  \\\n",
              "Title                                                                   \n",
              "Lets Fight Ghost     0.034277  0.018389 -0.025626  0.012649  0.020873   \n",
              "HOW TO BUILD A GIRL -0.018058  0.031475 -0.011722  0.012478 -0.018094   \n",
              "Centigrade          -0.016109 -0.007524 -0.057997 -0.033718  0.040296   \n",
              "The Con-Heartist     0.018669  0.011370 -0.002962  0.012122 -0.015201   \n",
              "Only a Mother        0.011225 -0.002247 -0.056678 -0.006817  0.052832   \n",
              "\n",
              "                           20        21        22        23        24  \\\n",
              "Title                                                                   \n",
              "Lets Fight Ghost     0.018891 -0.007954 -0.038799 -0.016607  0.014126   \n",
              "HOW TO BUILD A GIRL  0.030225 -0.041423 -0.002341  0.026366  0.001910   \n",
              "Centigrade          -0.007034 -0.068008  0.059949  0.073232 -0.041352   \n",
              "The Con-Heartist     0.009990 -0.024516  0.007645  0.007202  0.008463   \n",
              "Only a Mother        0.047302 -0.001391 -0.003668 -0.016443 -0.017951   \n",
              "\n",
              "                           25        26        27        28        29  \\\n",
              "Title                                                                   \n",
              "Lets Fight Ghost     0.023650  0.009719  0.008483  0.022943  0.014059   \n",
              "HOW TO BUILD A GIRL -0.061122  0.042924 -0.010461  0.024360 -0.013790   \n",
              "Centigrade           0.030295 -0.062226 -0.075461  0.020688 -0.043407   \n",
              "The Con-Heartist    -0.012423  0.006410 -0.009616 -0.004145 -0.004091   \n",
              "Only a Mother       -0.001377  0.014064 -0.023613 -0.002397 -0.041770   \n",
              "\n",
              "                           30        31        32        33        34  \\\n",
              "Title                                                                   \n",
              "Lets Fight Ghost    -0.026964  0.048203  0.052303 -0.040211 -0.048607   \n",
              "HOW TO BUILD A GIRL  0.014201 -0.002393 -0.026301 -0.017738  0.003546   \n",
              "Centigrade           0.002462 -0.040713 -0.027601 -0.011296 -0.004240   \n",
              "The Con-Heartist     0.003612 -0.025892  0.041650  0.014181 -0.023524   \n",
              "Only a Mother        0.017445 -0.002242 -0.002621  0.004781 -0.020961   \n",
              "\n",
              "                           35        36        37        38        39  \\\n",
              "Title                                                                   \n",
              "Lets Fight Ghost     0.063891 -0.041635 -0.009578  0.006836  0.003900   \n",
              "HOW TO BUILD A GIRL  0.013802  0.007479 -0.010840 -0.001775 -0.009333   \n",
              "Centigrade           0.018269  0.028918  0.025690  0.031623 -0.015153   \n",
              "The Con-Heartist     0.002474 -0.002869 -0.012869  0.021055  0.016541   \n",
              "Only a Mother       -0.018658  0.013524  0.012474  0.008197  0.009274   \n",
              "\n",
              "                           40        41        42        43        44  \\\n",
              "Title                                                                   \n",
              "Lets Fight Ghost     0.025195 -0.004532 -0.028891 -0.037727 -0.049401   \n",
              "HOW TO BUILD A GIRL -0.021153 -0.007009 -0.028114  0.018955  0.004584   \n",
              "Centigrade           0.004661 -0.030989  0.006761 -0.006158  0.003384   \n",
              "The Con-Heartist    -0.013239 -0.003714  0.016731 -0.017867 -0.012471   \n",
              "Only a Mother       -0.019670 -0.009136 -0.017401  0.010207  0.022335   \n",
              "\n",
              "                           45        46        47        48        49  \\\n",
              "Title                                                                   \n",
              "Lets Fight Ghost     0.006662 -0.005930 -0.038072 -0.077256 -0.029885   \n",
              "HOW TO BUILD A GIRL -0.008758  0.004740  0.012552  0.010506 -0.008033   \n",
              "Centigrade           0.009935 -0.012855 -0.047068  0.016221 -0.017727   \n",
              "The Con-Heartist     0.038042  0.019878 -0.038549 -0.014665  0.006226   \n",
              "Only a Mother       -0.020388 -0.010109  0.017198 -0.008560 -0.003118   \n",
              "\n",
              "                           50        51        52        53        54  \\\n",
              "Title                                                                   \n",
              "Lets Fight Ghost    -0.032922 -0.023693 -0.006520 -0.025100 -0.008866   \n",
              "HOW TO BUILD A GIRL -0.019188 -0.021850  0.003778 -0.020658 -0.000390   \n",
              "Centigrade           0.005721  0.007060  0.006564 -0.008581  0.001214   \n",
              "The Con-Heartist     0.004974  0.016551 -0.046582  0.000942  0.040614   \n",
              "Only a Mother       -0.027387  0.009912  0.019277 -0.014090  0.023802   \n",
              "\n",
              "                           55        56        57        58        59  \\\n",
              "Title                                                                   \n",
              "Lets Fight Ghost    -0.034219 -0.068909  0.027366  0.042718  0.042536   \n",
              "HOW TO BUILD A GIRL -0.005717 -0.019679  0.007434 -0.018438  0.014646   \n",
              "Centigrade           0.015216 -0.015283  0.008436 -0.001604  0.016839   \n",
              "The Con-Heartist    -0.032785 -0.017712  0.015884 -0.063974 -0.017180   \n",
              "Only a Mother        0.011057  0.030063  0.028388  0.015095 -0.030379   \n",
              "\n",
              "                           60        61        62        63        64  \\\n",
              "Title                                                                   \n",
              "Lets Fight Ghost    -0.019906 -0.000235 -0.022578  0.015209  0.002935   \n",
              "HOW TO BUILD A GIRL -0.005609 -0.027407  0.015024  0.014200 -0.003248   \n",
              "Centigrade           0.000776  0.011205 -0.003049 -0.023807  0.024282   \n",
              "The Con-Heartist     0.038666  0.012911  0.063971  0.064979  0.015267   \n",
              "Only a Mother        0.014447  0.048098 -0.007183  0.010150 -0.016090   \n",
              "\n",
              "                           65        66        67        68        69  \\\n",
              "Title                                                                   \n",
              "Lets Fight Ghost    -0.013432  0.022437  0.023996 -0.005127  0.001819   \n",
              "HOW TO BUILD A GIRL  0.005689 -0.012513 -0.036858 -0.009482  0.002302   \n",
              "Centigrade          -0.015275  0.025670 -0.001963  0.020517 -0.031387   \n",
              "The Con-Heartist     0.020906 -0.027674  0.034887 -0.013942 -0.006119   \n",
              "Only a Mother        0.023665  0.009528 -0.015394  0.021158 -0.050316   \n",
              "\n",
              "                           70        71        72        73        74  \\\n",
              "Title                                                                   \n",
              "Lets Fight Ghost    -0.020299 -0.010373  0.038625 -0.014111 -0.008188   \n",
              "HOW TO BUILD A GIRL -0.010397  0.003896 -0.001028  0.011575 -0.011753   \n",
              "Centigrade           0.026635 -0.031670 -0.025887 -0.002357  0.000282   \n",
              "The Con-Heartist    -0.006397 -0.006286 -0.000353  0.008385 -0.047696   \n",
              "Only a Mother       -0.000890  0.006953 -0.018894  0.008032  0.027640   \n",
              "\n",
              "                           75        76        77        78        79  \\\n",
              "Title                                                                   \n",
              "Lets Fight Ghost    -0.019747  0.024146  0.014123  0.008758  0.017735   \n",
              "HOW TO BUILD A GIRL -0.001712 -0.009892  0.016905 -0.019000  0.036730   \n",
              "Centigrade          -0.012607  0.022564 -0.034051  0.015174  0.021753   \n",
              "The Con-Heartist     0.030300 -0.037313  0.021999 -0.037129 -0.024735   \n",
              "Only a Mother        0.013112 -0.026247  0.044765  0.020230  0.009561   \n",
              "\n",
              "                           80        81        82        83        84  \\\n",
              "Title                                                                   \n",
              "Lets Fight Ghost     0.016638 -0.015796  0.006315  0.000543  0.003247   \n",
              "HOW TO BUILD A GIRL  0.013756  0.051319 -0.001618  0.009676 -0.022579   \n",
              "Centigrade          -0.008246  0.016472  0.029808 -0.008518  0.002758   \n",
              "The Con-Heartist    -0.014542  0.042935 -0.005902  0.019364  0.003556   \n",
              "Only a Mother       -0.003990  0.012183 -0.015691  0.029599 -0.015101   \n",
              "\n",
              "                           85        86        87        88        89  \\\n",
              "Title                                                                   \n",
              "Lets Fight Ghost     0.000868 -0.042817 -0.030214  0.015050  0.007481   \n",
              "HOW TO BUILD A GIRL -0.008851  0.018277  0.015118 -0.044286 -0.004016   \n",
              "Centigrade           0.001495 -0.008658  0.000831  0.036394  0.007755   \n",
              "The Con-Heartist     0.038343  0.005280 -0.001024  0.008274  0.001874   \n",
              "Only a Mother        0.012861 -0.041862 -0.023710  0.029485 -0.043853   \n",
              "\n",
              "                           90        91        92        93        94  \\\n",
              "Title                                                                   \n",
              "Lets Fight Ghost    -0.002668  0.027955 -0.005567 -0.012030 -0.006436   \n",
              "HOW TO BUILD A GIRL  0.036563 -0.000003  0.051132 -0.036074 -0.023428   \n",
              "Centigrade           0.012050 -0.006121  0.002111 -0.025575  0.022018   \n",
              "The Con-Heartist    -0.011287 -0.029464  0.001207 -0.011673  0.029574   \n",
              "Only a Mother        0.036937 -0.011021 -0.019501 -0.014242 -0.006577   \n",
              "\n",
              "                           95        96        97        98        99  \n",
              "Title                                                                  \n",
              "Lets Fight Ghost     0.002108 -0.035995 -0.011667 -0.024666 -0.004024  \n",
              "HOW TO BUILD A GIRL -0.006617  0.034867 -0.008264  0.003831 -0.013543  \n",
              "Centigrade          -0.019831 -0.006968  0.048763  0.029087  0.014423  \n",
              "The Con-Heartist     0.016077  0.012263  0.005562 -0.011365  0.042033  \n",
              "Only a Mother       -0.008770  0.022598 -0.009821 -0.006524  0.004609  "
            ]
          },
          "metadata": {
            "tags": []
          },
          "execution_count": 152
        }
      ]
    },
    {
      "cell_type": "code",
      "metadata": {
        "id": "a1fc33c8"
      },
      "source": [
        "# Creating the index values for all movies and storing it in a dictionary\n",
        "movie_dict ={k:i for i,k in enumerate(final_df['Title'])}"
      ],
      "id": "a1fc33c8",
      "execution_count": 154,
      "outputs": []
    },
    {
      "cell_type": "code",
      "metadata": {
        "colab": {
          "base_uri": "https://localhost:8080/",
          "height": 230
        },
        "id": "e0c309d8",
        "outputId": "e23bfd27-c78b-41bb-d46e-3a8e0d91874a"
      },
      "source": [
        "# Extracting info from the cast dataset\n",
        "# replacing the index by the title of movie\n",
        "\n",
        "cast_crew_df.set_index('Title',inplace=True)\n",
        "cast_crew_df.head(2)"
      ],
      "id": "e0c309d8",
      "execution_count": 160,
      "outputs": [
        {
          "output_type": "execute_result",
          "data": {
            "text/html": [
              "<div>\n",
              "<style scoped>\n",
              "    .dataframe tbody tr th:only-of-type {\n",
              "        vertical-align: middle;\n",
              "    }\n",
              "\n",
              "    .dataframe tbody tr th {\n",
              "        vertical-align: top;\n",
              "    }\n",
              "\n",
              "    .dataframe thead th {\n",
              "        text-align: right;\n",
              "    }\n",
              "</style>\n",
              "<table border=\"1\" class=\"dataframe\">\n",
              "  <thead>\n",
              "    <tr style=\"text-align: right;\">\n",
              "      <th></th>\n",
              "      <th>Director</th>\n",
              "      <th>Writer</th>\n",
              "      <th>Actors</th>\n",
              "      <th>genres</th>\n",
              "      <th>Summary</th>\n",
              "    </tr>\n",
              "    <tr>\n",
              "      <th>Title</th>\n",
              "      <th></th>\n",
              "      <th></th>\n",
              "      <th></th>\n",
              "      <th></th>\n",
              "      <th></th>\n",
              "    </tr>\n",
              "  </thead>\n",
              "  <tbody>\n",
              "    <tr>\n",
              "      <th>Lets Fight Ghost</th>\n",
              "      <td>Tomas_Alfredson</td>\n",
              "      <td>John_Ajvide_Lindqvist</td>\n",
              "      <td>Kåre_Hedebrant,Per_Ragnar,Lina_Leandersson,Henrik_Dahl</td>\n",
              "      <td>Horror,Comedy</td>\n",
              "      <td>A med student with a supernatural gift tries to cash in on his abilities by facing off against g...</td>\n",
              "    </tr>\n",
              "    <tr>\n",
              "      <th>HOW TO BUILD A GIRL</th>\n",
              "      <td>Coky_Giedroyc</td>\n",
              "      <td>Caitlin_Moran</td>\n",
              "      <td>Paddy_Considine,Cleo,Beanie_Feldstein,Dónal_Finn</td>\n",
              "      <td>Drama,Comedy</td>\n",
              "      <td>When nerdy Johanna moves to London, things get out of hand when she reinvents herself as a bad-m...</td>\n",
              "    </tr>\n",
              "  </tbody>\n",
              "</table>\n",
              "</div>"
            ],
            "text/plain": [
              "                            Director                 Writer  \\\n",
              "Title                                                         \n",
              "Lets Fight Ghost     Tomas_Alfredson  John_Ajvide_Lindqvist   \n",
              "HOW TO BUILD A GIRL    Coky_Giedroyc          Caitlin_Moran   \n",
              "\n",
              "                                                                     Actors  \\\n",
              "Title                                                                         \n",
              "Lets Fight Ghost     Kåre_Hedebrant,Per_Ragnar,Lina_Leandersson,Henrik_Dahl   \n",
              "HOW TO BUILD A GIRL        Paddy_Considine,Cleo,Beanie_Feldstein,Dónal_Finn   \n",
              "\n",
              "                            genres  \\\n",
              "Title                                \n",
              "Lets Fight Ghost     Horror,Comedy   \n",
              "HOW TO BUILD A GIRL   Drama,Comedy   \n",
              "\n",
              "                                                                                                                 Summary  \n",
              "Title                                                                                                                     \n",
              "Lets Fight Ghost     A med student with a supernatural gift tries to cash in on his abilities by facing off against g...  \n",
              "HOW TO BUILD A GIRL  When nerdy Johanna moves to London, things get out of hand when she reinvents herself as a bad-m...  "
            ]
          },
          "metadata": {
            "tags": []
          },
          "execution_count": 160
        }
      ]
    },
    {
      "cell_type": "markdown",
      "metadata": {
        "id": "dPmzkgOzvhDK"
      },
      "source": [
        "## <b> Writing a function which will recommend movies as per user input:</b>\n",
        "* The function will return ten movies similar to the movie the user has chosen and will also return the similarity scores and the plot of all the movies"
      ],
      "id": "dPmzkgOzvhDK"
    },
    {
      "cell_type": "code",
      "metadata": {
        "id": "87acf22a"
      },
      "source": [
        "# writing a function to recommend movies\n",
        "def top_similarities(data,cast_crew_df,movie_title):\n",
        "    movie_to_row_idx = movie_dict[movie_title]\n",
        "    movie_vector = data.loc[movie_title].values\n",
        "    \n",
        "    a = movie_dict.keys()\n",
        "    b = movie_dict.values()\n",
        "    zipped = list(zip(b,a))\n",
        "    cosine_score = {}\n",
        "    df_recommend = pd.DataFrame()\n",
        "    \n",
        "# Calculating similarity scores using cosine metric\n",
        "    for i,val in list(zip(b,a)):\n",
        "        rec_mov_vec = data.loc[val].values\n",
        "        cosine_score[val] = 1 - scipy.spatial.distance.cosine(movie_vector, rec_mov_vec)\n",
        "    df_recommend['Title'] = cosine_score.keys()\n",
        "    df_recommend['Similarity'] = cosine_score.values()\n",
        "    sorted_recommender= df_recommend.sort_values('Similarity', ascending = False).iloc[1:,].head(10)\n",
        "    \n",
        "    \n",
        "# Adding the summary of each recommended movies\n",
        "    plot=[]\n",
        "    for i in range(10):\n",
        "        title_mov=sorted_recommender.iloc[i]['Title']\n",
        "        plot.append(cast_crew_df.loc[title_mov, 'Summary'])\n",
        "        \n",
        "    sorted_recommender['Plot']=plot\n",
        "    return sorted_recommender"
      ],
      "id": "87acf22a",
      "execution_count": 161,
      "outputs": []
    },
    {
      "cell_type": "markdown",
      "metadata": {
        "id": "0eb6a8f1"
      },
      "source": [
        "## <b>Recommender System: Based on Cast, Genre and Plots of movies and series:</b>"
      ],
      "id": "0eb6a8f1"
    },
    {
      "cell_type": "code",
      "metadata": {
        "colab": {
          "base_uri": "https://localhost:8080/",
          "height": 535
        },
        "id": "d6fcaa40",
        "outputId": "17c54928-93fe-4621-9df9-e2e195d8ec9b"
      },
      "source": [
        "# Increasing colwidth \n",
        "pd.set_option('max_colwidth', 150)\n",
        "\n",
        "# Recommendations for movies\n",
        "top_similarities(df_contents,cast_crew_df, 'Lets Fight Ghost')"
      ],
      "id": "d6fcaa40",
      "execution_count": 163,
      "outputs": [
        {
          "output_type": "execute_result",
          "data": {
            "text/html": [
              "<div>\n",
              "<style scoped>\n",
              "    .dataframe tbody tr th:only-of-type {\n",
              "        vertical-align: middle;\n",
              "    }\n",
              "\n",
              "    .dataframe tbody tr th {\n",
              "        vertical-align: top;\n",
              "    }\n",
              "\n",
              "    .dataframe thead th {\n",
              "        text-align: right;\n",
              "    }\n",
              "</style>\n",
              "<table border=\"1\" class=\"dataframe\">\n",
              "  <thead>\n",
              "    <tr style=\"text-align: right;\">\n",
              "      <th></th>\n",
              "      <th>Title</th>\n",
              "      <th>Similarity</th>\n",
              "      <th>Plot</th>\n",
              "    </tr>\n",
              "  </thead>\n",
              "  <tbody>\n",
              "    <tr>\n",
              "      <th>3640</th>\n",
              "      <td>Danur: I Can See Ghosts</td>\n",
              "      <td>0.623811</td>\n",
              "      <td>Adapted from a best-selling novel, this horror film shows Risa befriending ghosts until an evil spirit tries to take her sister to the other side.</td>\n",
              "    </tr>\n",
              "    <tr>\n",
              "      <th>3564</th>\n",
              "      <td>Dabbe: Ci̇n Çarpmasi</td>\n",
              "      <td>0.599085</td>\n",
              "      <td>Ahead of her wedding, Kübra is possessed by demons. When an examination reveals more horror, her friend, a psychiatrist, tries to perform an exorc...</td>\n",
              "    </tr>\n",
              "    <tr>\n",
              "      <th>1417</th>\n",
              "      <td>Siam Square</td>\n",
              "      <td>0.580740</td>\n",
              "      <td>A group of skeptical students try to capture evidence of a malevolent ghost on film but soon realize that they’re the ones being watched.</td>\n",
              "    </tr>\n",
              "    <tr>\n",
              "      <th>1835</th>\n",
              "      <td>The End?</td>\n",
              "      <td>0.571395</td>\n",
              "      <td>Stuck between floors in an elevator, an arrogant businessman tries to escape â€” only to realize that outside, an apocalyptic crisis is beginning.</td>\n",
              "    </tr>\n",
              "    <tr>\n",
              "      <th>4547</th>\n",
              "      <td>Phobia 2</td>\n",
              "      <td>0.570338</td>\n",
              "      <td>From disfiguring punishments to festering souls, Thai horror masters present five supernatural tales of karma in this sequel to the 4bia anthology.</td>\n",
              "    </tr>\n",
              "    <tr>\n",
              "      <th>3775</th>\n",
              "      <td>Sadako vs. Kayako</td>\n",
              "      <td>0.561971</td>\n",
              "      <td>When vengeful spirits Sadako and Kayako battle for supremacy, teenagers and college students are caught in the crossfire of their death curses.</td>\n",
              "    </tr>\n",
              "    <tr>\n",
              "      <th>1448</th>\n",
              "      <td>Rimini Rimini</td>\n",
              "      <td>0.554361</td>\n",
              "      <td>Five stories of romance and escapades on the sunny beaches of Rimini include a crusading magistrate whose enemies try to frame him in a sex scandal.</td>\n",
              "    </tr>\n",
              "    <tr>\n",
              "      <th>9349</th>\n",
              "      <td>Zombieland</td>\n",
              "      <td>0.552814</td>\n",
              "      <td>Looking to survive in a world taken over by zombies, a dorky college student teams with an urban roughneck and a pair of grifter sisters.</td>\n",
              "    </tr>\n",
              "    <tr>\n",
              "      <th>3493</th>\n",
              "      <td>White Lily</td>\n",
              "      <td>0.546080</td>\n",
              "      <td>Famed ceramicist Tokikos alcoholism endangers her success. Infatuated, Haruka puts up with her mentors antics until male student Satoru joins them.</td>\n",
              "    </tr>\n",
              "    <tr>\n",
              "      <th>6743</th>\n",
              "      <td>Sukimasuki</td>\n",
              "      <td>0.545747</td>\n",
              "      <td>College student Heisaku has a passion for playing peeping tom, spying on his neighbor Fumio. Little does he know that she knows hes watching her.</td>\n",
              "    </tr>\n",
              "  </tbody>\n",
              "</table>\n",
              "</div>"
            ],
            "text/plain": [
              "                        Title  Similarity  \\\n",
              "3640  Danur: I Can See Ghosts    0.623811   \n",
              "3564     Dabbe: Ci̇n Çarpmasi    0.599085   \n",
              "1417              Siam Square    0.580740   \n",
              "1835                 The End?    0.571395   \n",
              "4547                 Phobia 2    0.570338   \n",
              "3775        Sadako vs. Kayako    0.561971   \n",
              "1448            Rimini Rimini    0.554361   \n",
              "9349               Zombieland    0.552814   \n",
              "3493               White Lily    0.546080   \n",
              "6743               Sukimasuki    0.545747   \n",
              "\n",
              "                                                                                                                                                       Plot  \n",
              "3640     Adapted from a best-selling novel, this horror film shows Risa befriending ghosts until an evil spirit tries to take her sister to the other side.  \n",
              "3564  Ahead of her wedding, Kübra is possessed by demons. When an examination reveals more horror, her friend, a psychiatrist, tries to perform an exorc...  \n",
              "1417              A group of skeptical students try to capture evidence of a malevolent ghost on film but soon realize that they’re the ones being watched.  \n",
              "1835     Stuck between floors in an elevator, an arrogant businessman tries to escape â€” only to realize that outside, an apocalyptic crisis is beginning.  \n",
              "4547    From disfiguring punishments to festering souls, Thai horror masters present five supernatural tales of karma in this sequel to the 4bia anthology.  \n",
              "3775        When vengeful spirits Sadako and Kayako battle for supremacy, teenagers and college students are caught in the crossfire of their death curses.  \n",
              "1448   Five stories of romance and escapades on the sunny beaches of Rimini include a crusading magistrate whose enemies try to frame him in a sex scandal.  \n",
              "9349              Looking to survive in a world taken over by zombies, a dorky college student teams with an urban roughneck and a pair of grifter sisters.  \n",
              "3493    Famed ceramicist Tokikos alcoholism endangers her success. Infatuated, Haruka puts up with her mentors antics until male student Satoru joins them.  \n",
              "6743      College student Heisaku has a passion for playing peeping tom, spying on his neighbor Fumio. Little does he know that she knows hes watching her.  "
            ]
          },
          "metadata": {
            "tags": []
          },
          "execution_count": 163
        }
      ]
    },
    {
      "cell_type": "markdown",
      "metadata": {
        "id": "1ki5CHAkv0bO"
      },
      "source": [
        "# <b>Conclusion:</b>\n",
        "* We have created a Content Based Recommendation system based on the Cast and crew members in a particular movie, genres of the movie as well as the overall Summary of each movie\n",
        "* We have used Singular Value Decomposition to decompose our sparse matrix into a dataframe\n",
        "* A function is created which when called will provide us with ten recommendations of the movies that are similar to the movie that the user has defined. Similarity between vectors of each movie titles have been calculated using cosine scores"
      ],
      "id": "1ki5CHAkv0bO"
    }
  ]
}